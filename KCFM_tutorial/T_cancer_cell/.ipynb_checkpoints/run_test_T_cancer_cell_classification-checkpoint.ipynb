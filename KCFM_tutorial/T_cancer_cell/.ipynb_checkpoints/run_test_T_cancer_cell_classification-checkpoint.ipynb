{
 "cells": [
  {
   "cell_type": "code",
   "execution_count": 1,
   "id": "6636fdab",
   "metadata": {},
   "outputs": [],
   "source": [
    "import sys\n",
    "from pathlib import Path\n",
    "\n",
    "# Get the root directory of the project\n",
    "project_root = Path(\"/home/lxz/scmamba/KCellFM_tutorial/T_cancer_cell\").parent.parent\n",
    "# project_root = Path(__file__).parent.parent\n",
    "sys.path.append(str(project_root))"
   ]
  },
  {
   "cell_type": "code",
   "execution_count": 2,
   "id": "04daf7b4",
   "metadata": {},
   "outputs": [
    {
     "name": "stderr",
     "output_type": "stream",
     "text": [
      "/home/lxz/tools/anaconda3/envs/scgpt/lib/python3.10/site-packages/tqdm/auto.py:21: TqdmWarning: IProgress not found. Please update jupyter and ipywidgets. See https://ipywidgets.readthedocs.io/en/stable/user_install.html\n",
      "  from .autonotebook import tqdm as notebook_tqdm\n"
     ]
    }
   ],
   "source": [
    "import torch\n",
    "import torch.nn as nn\n",
    "from torch.utils.data import DataLoader\n",
    "from sklearn.metrics import classification_report, accuracy_score\n",
    "import scanpy as sc\n",
    "import numpy as np\n",
    "from scipy import sparse\n",
    "from tqdm import tqdm\n",
    "import pickle\n",
    "from models.model import MambaModel\n",
    "from models.gene_tokenizer import GeneVocab"
   ]
  },
  {
   "cell_type": "code",
   "execution_count": 3,
   "id": "a2e73919",
   "metadata": {},
   "outputs": [],
   "source": [
    "# Use the same configuration parameters as training\n",
    "batch_size = 32\n",
    "embsize = 512\n",
    "nhead = 8\n",
    "d_hid = 512\n",
    "nlayers = 6\n",
    "dropout = 0.1\n",
    "pad_token = \"<pad>\"\n",
    "max_seq_len = 4096\n",
    "input_emb_style = \"continuous\"\n",
    "cell_emb_style = \"cls\"\n",
    "pad_value = -2"
   ]
  },
  {
   "cell_type": "code",
   "execution_count": 4,
   "id": "c0a74415",
   "metadata": {},
   "outputs": [],
   "source": [
    "# Cell type mapping\n",
    "celltype_to_id = {\n",
    "    'T cell': 0,\n",
    "    'CD8-positive, alpha-beta cytotoxic T cell': 1,\n",
    "    'naive thymus-derived CD4-positive, alpha-beta T cell': 2,\n",
    "    'effector CD8-positive, alpha-beta T cell': 3,\n",
    "    'effector memory CD8-positive, alpha-beta T cell': 4,\n",
    "    'central memory CD4-positive, alpha-beta T cell': 5,\n",
    "    'gamma-delta T cell': 6\n",
    "}\n",
    "id_to_celltype = {v: k for k, v in celltype_to_id.items()}\n",
    "class_num = len(celltype_to_id)"
   ]
  },
  {
   "cell_type": "code",
   "execution_count": 5,
   "id": "c4489321",
   "metadata": {},
   "outputs": [],
   "source": [
    "# load vocab\n",
    "vocab = GeneVocab.from_file(\"/home/lxz/scmamba/vocab.json\")\n",
    "ntokens = len(vocab)"
   ]
  },
  {
   "cell_type": "code",
   "execution_count": 6,
   "id": "a6b4a406",
   "metadata": {},
   "outputs": [],
   "source": [
    "# Dataset loader\n",
    "class SingleCellDataset:\n",
    "    def __init__(self, adata):\n",
    "        self.adata = adata\n",
    "        self.cell_ids = adata.obs_names.tolist()\n",
    "        self.gene_names = adata.var.feature_name.tolist()\n",
    "\n",
    "        # Pre-calculate the index of non-zero expressed genes\n",
    "        self.nonzero_indices = {}\n",
    "        expr_matrix = adata.X.toarray() if sparse.issparse(adata.X) else adata.X\n",
    "        for i, cell_id in enumerate(self.cell_ids):\n",
    "            self.nonzero_indices[cell_id] = np.where(expr_matrix[i] != 0)[0]\n",
    "\n",
    "    def __len__(self):\n",
    "        return len(self.cell_ids)\n",
    "\n",
    "    def __getitem__(self, idx):\n",
    "        cell_id = self.cell_ids[idx]\n",
    "        cell_type = self.adata.obs.loc[cell_id, 'cell_type']\n",
    "\n",
    "        nonzero_idx = self.nonzero_indices[cell_id]\n",
    "        expr_values = self.adata.X[idx, nonzero_idx].toarray().flatten() \\\n",
    "            if sparse.issparse(self.adata.X) \\\n",
    "            else self.adata.X[idx, nonzero_idx]\n",
    "        gene_names = [self.gene_names[i] for i in nonzero_idx]\n",
    "\n",
    "        gene_ids = []\n",
    "        filtered_expr = []\n",
    "        for gene, value in zip(gene_names, expr_values):\n",
    "            if gene in vocab:\n",
    "                gene_ids.append(vocab[gene])\n",
    "                filtered_expr.append(value)\n",
    "\n",
    "        if len(gene_ids) > max_seq_len - 1:\n",
    "            selected = np.random.choice(len(gene_ids), max_seq_len - 1, replace=False)\n",
    "            gene_ids = [gene_ids[i] for i in selected]\n",
    "            filtered_expr = [filtered_expr[i] for i in selected]\n",
    "\n",
    "        gene_ids = [vocab[\"<cls>\"]] + gene_ids\n",
    "        filtered_expr = [0.0] + filtered_expr\n",
    "\n",
    "        padding_len = max_seq_len - len(gene_ids)\n",
    "        if padding_len > 0:\n",
    "            gene_ids += [vocab[\"<pad>\"]] * padding_len\n",
    "            filtered_expr += [pad_value] * padding_len\n",
    "\n",
    "        padding_mask = [id_ == vocab[\"<pad>\"] for id_ in gene_ids]\n",
    "\n",
    "        return {\n",
    "            'src': torch.LongTensor(gene_ids),\n",
    "            'values': torch.FloatTensor(filtered_expr),\n",
    "            'padding_mask': torch.BoolTensor(padding_mask),\n",
    "            'celltype': torch.tensor(celltype_to_id[cell_type], dtype=torch.long)\n",
    "        }\n"
   ]
  },
  {
   "cell_type": "code",
   "execution_count": 47,
   "id": "638ba51e",
   "metadata": {},
   "outputs": [],
   "source": [
    "def evaluate():\n",
    "    device = torch.device(\"cuda:1\" if torch.cuda.is_available() else \"cpu\")\n",
    "    torch.cuda.set_device(device)\n",
    "\n",
    "    # Load test data\n",
    "    print(\"Load test set h5ad file...\")\n",
    "    adata_test = sc.read(\"/mnt/HHD16T/DATA/lxz/cancer/T_test.h5ad\")\n",
    "    print(f\"Test set loading completed, cell count: {adata_test.n_obs}\")\n",
    "\n",
    "    # Create a test dataset\n",
    "    test_dataset = SingleCellDataset(adata_test)\n",
    "    test_loader = DataLoader(\n",
    "        test_dataset,\n",
    "        batch_size=batch_size,\n",
    "        shuffle=False,\n",
    "        num_workers=4\n",
    "    )\n",
    "\n",
    "    # Initialize model\n",
    "    model = MambaModel(\n",
    "        ntokens, embsize, nhead, d_hid, nlayers,\n",
    "        vocab=vocab, dropout=dropout, pad_token=pad_token,\n",
    "        pad_value=pad_value, input_emb_style=input_emb_style,\n",
    "        cell_emb_style=cell_emb_style, class_num=class_num\n",
    "    ).to(device)\n",
    "\n",
    "    # Load the weights of the trained model\n",
    "#     model_path = '/home/lxz/scmamba/model_state/cancer_Tcell_2_layers_best_final_ipynb.pth'\n",
    "    model_path = '/home/lxz/scmamba/model_state/cancer_Tcell_2_layers_best_final_ipynb.pth'\n",
    "    model.load_state_dict(torch.load(model_path, map_location=device))\n",
    "    model.eval()\n",
    "    print(f\"Model weights have been loaded: {model_path}\")\n",
    "\n",
    "    # Initialize the collection of variables\n",
    "    all_preds = []\n",
    "    all_labels = []\n",
    "    all_cell_embs = []\n",
    "\n",
    "    with torch.no_grad():\n",
    "        for batch in tqdm(test_loader, desc=\"Testing\"):\n",
    "            src = batch['src'].to(device)\n",
    "            values = batch['values'].to(device)\n",
    "            padding_mask = batch['padding_mask'].to(device)\n",
    "            cell_types = batch['celltype'].to(device)\n",
    "\n",
    "            # forward propagation\n",
    "            model_output = model(\n",
    "                src=src,\n",
    "                values=values,\n",
    "                src_key_padding_mask=padding_mask\n",
    "            )\n",
    "\n",
    "            # Obtain predicted categories and cell embeddings\n",
    "            preds = torch.argmax(model_output[\"cls_output\"], dim=1)\n",
    "            cell_embs = model_output[\"cell_emb\"].cpu().numpy()\n",
    "\n",
    "            # collect results\n",
    "            all_preds.extend(preds.cpu().numpy())\n",
    "            all_labels.extend(cell_types.cpu().numpy())\n",
    "            all_cell_embs.append(cell_embs)\n",
    "\n",
    "    # Splicing the embeddings of all batches together\n",
    "    all_cell_embs = np.concatenate(all_cell_embs, axis=0)  # Shape [N, 512]\n",
    "\n",
    "    # Save cell embedding\n",
    "    embedding_path = \"/home/lxz/scmamba/aicase1/cell_embeddings_ipynb.npy\"\n",
    "    np.save(embedding_path, all_cell_embs)\n",
    "    print(f\"Cell embedding has been saved to: {embedding_path}\")\n",
    "\n",
    "    # Save labels and preds to a .pkl file\n",
    "    pkl_path = \"/home/lxz/scmamba/aicase1/labels_preds_ipynb.pkl\"\n",
    "    with open(pkl_path, \"wb\") as f:\n",
    "        pickle.dump({\n",
    "            \"labels\": all_labels,  # True label\n",
    "            \"preds\": all_preds  # prediction label\n",
    "        }, f)\n",
    "    print(f\"The labels and predicted results have been saved to: {pkl_path}\")\n",
    "\n",
    "    # Compute accuracy\n",
    "    if len(all_preds) > 0:\n",
    "        acc = accuracy_score(all_labels, all_preds)\n",
    "        print(f\"\\ntest accuracy: {acc:.4f}\")\n",
    "\n",
    "        # Print classification report\n",
    "        print(\"\\nDetailed classification report:\")\n",
    "        print(classification_report(\n",
    "            all_labels,\n",
    "            all_preds,\n",
    "            target_names=list(celltype_to_id.keys()),\n",
    "            digits=4\n",
    "        ))"
   ]
  },
  {
   "cell_type": "code",
   "execution_count": 49,
   "id": "f1ba39bd",
   "metadata": {},
   "outputs": [
    {
     "name": "stdout",
     "output_type": "stream",
     "text": [
      "Load test set h5ad file...\n",
      "Test set loading completed, cell count: 6383\n",
      "Model weights have been loaded: /home/lxz/scmamba/model_state/cancer_Tcell_2_layers_best_final_ipynb.pth\n"
     ]
    },
    {
     "name": "stderr",
     "output_type": "stream",
     "text": [
      "Testing: 100%|█████████████████████████████████████████████████████████████████████████████████████████████████████████████████████████████████████████████| 200/200 [02:26<00:00,  1.36it/s]"
     ]
    },
    {
     "name": "stdout",
     "output_type": "stream",
     "text": [
      "Cell embedding has been saved to: /home/lxz/scmamba/aicase1/cell_embeddings_ipynb.npy\n",
      "The labels and predicted results have been saved to: /home/lxz/scmamba/aicase1/labels_preds_ipynb.pkl\n",
      "\n",
      "test accuracy: 0.8123\n",
      "\n",
      "Detailed classification report:\n",
      "                                                      precision    recall  f1-score   support\n",
      "\n",
      "                                              T cell     0.9479    0.9639    0.9558      1662\n",
      "           CD8-positive, alpha-beta cytotoxic T cell     0.7909    0.8476    0.8183      1575\n",
      "naive thymus-derived CD4-positive, alpha-beta T cell     0.8557    0.8711    0.8633      1055\n",
      "            effector CD8-positive, alpha-beta T cell     0.7434    0.5253    0.6156       910\n",
      "     effector memory CD8-positive, alpha-beta T cell     0.6572    0.7623    0.7059       732\n",
      "      central memory CD4-positive, alpha-beta T cell     0.6650    0.6769    0.6709       390\n",
      "                                  gamma-delta T cell     0.6905    0.4915    0.5743        59\n",
      "\n",
      "                                            accuracy                         0.8123      6383\n",
      "                                           macro avg     0.7644    0.7341    0.7434      6383\n",
      "                                        weighted avg     0.8118    0.8123    0.8085      6383\n"
     ]
    },
    {
     "name": "stderr",
     "output_type": "stream",
     "text": [
      "\n"
     ]
    }
   ],
   "source": [
    "if __name__ == \"__main__\":\n",
    "    evaluate()"
   ]
  },
  {
   "cell_type": "code",
   "execution_count": null,
   "id": "0c5dfd18",
   "metadata": {},
   "outputs": [],
   "source": []
  }
 ],
 "metadata": {
  "kernelspec": {
   "display_name": "Python 3 (ipykernel)",
   "language": "python",
   "name": "python3"
  },
  "language_info": {
   "codemirror_mode": {
    "name": "ipython",
    "version": 3
   },
   "file_extension": ".py",
   "mimetype": "text/x-python",
   "name": "python",
   "nbconvert_exporter": "python",
   "pygments_lexer": "ipython3",
   "version": "3.10.16"
  }
 },
 "nbformat": 4,
 "nbformat_minor": 5
}
