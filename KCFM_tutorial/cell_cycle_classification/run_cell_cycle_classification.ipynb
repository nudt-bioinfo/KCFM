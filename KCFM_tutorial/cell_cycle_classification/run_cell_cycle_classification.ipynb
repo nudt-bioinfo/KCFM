{
 "cells": [
  {
   "cell_type": "code",
   "execution_count": 1,
   "id": "e0bf323c",
   "metadata": {},
   "outputs": [],
   "source": [
    "import sys\n",
    "from pathlib import Path\n",
    "\n",
    "# Get the root directory of the project\n",
    "project_root = Path(\"/home/lxz/scmamba/KCellFM_tutorial/cell_cycle_classification\").parent.parent\n",
    "# project_root = Path(__file__).parent.parent\n",
    "sys.path.append(str(project_root))"
   ]
  },
  {
   "cell_type": "code",
   "execution_count": 2,
   "id": "e7de180b",
   "metadata": {},
   "outputs": [
    {
     "name": "stderr",
     "output_type": "stream",
     "text": [
      "/home/lxz/tools/anaconda3/envs/scgpt/lib/python3.10/site-packages/tqdm/auto.py:21: TqdmWarning: IProgress not found. Please update jupyter and ipywidgets. See https://ipywidgets.readthedocs.io/en/stable/user_install.html\n",
      "  from .autonotebook import tqdm as notebook_tqdm\n"
     ]
    }
   ],
   "source": [
    "import torch\n",
    "import torch.nn as nn\n",
    "from torch.utils.data import Dataset, DataLoader, random_split\n",
    "from tqdm import tqdm\n",
    "import pandas as pd\n",
    "import numpy as np\n",
    "from models.model import MambaModel\n",
    "from models.gene_tokenizer import GeneVocab\n",
    "from sklearn.model_selection import train_test_split\n",
    "import anndata\n",
    "import random\n",
    "from sklearn.metrics import classification_report\n",
    "import pickle\n",
    "import matplotlib.pyplot as plt"
   ]
  },
  {
   "cell_type": "code",
   "execution_count": 3,
   "id": "5638e418",
   "metadata": {},
   "outputs": [],
   "source": [
    "# Fixed random seeds ensure reproducibility\n",
    "def set_seed(seed=42):\n",
    "    random.seed(seed)\n",
    "    np.random.seed(seed)\n",
    "    torch.manual_seed(seed)\n",
    "    torch.cuda.manual_seed_all(seed)\n",
    "    torch.backends.cudnn.deterministic = True\n",
    "    torch.backends.cudnn.benchmark = False\n",
    "\n",
    "set_seed(42)  "
   ]
  },
  {
   "cell_type": "code",
   "execution_count": 4,
   "id": "25ef9b06",
   "metadata": {},
   "outputs": [],
   "source": [
    "# configuration parameters\n",
    "epochs = 50  # 50 epochs\n",
    "batch_size = 64\n",
    "embsize = 512\n",
    "nhead = 8\n",
    "d_hid = 512\n",
    "nlayers = 6\n",
    "dropout = 0.1\n",
    "lr = 1e-5\n",
    "pad_token = \"<pad>\"\n",
    "max_seq_len = 8192\n",
    "input_emb_style = \"continuous\"\n",
    "cell_emb_style = \"cls\"\n",
    "mask_value = -1\n",
    "pad_value = -2"
   ]
  },
  {
   "cell_type": "code",
   "execution_count": 5,
   "id": "b7356918",
   "metadata": {},
   "outputs": [],
   "source": [
    "# Load vocabulary list\n",
    "vocab = GeneVocab.from_file(\"/home/lxz/scmamba/vocab.json\")\n",
    "ntokens = len(vocab)"
   ]
  },
  {
   "cell_type": "code",
   "execution_count": 6,
   "id": "fb1a4f01",
   "metadata": {},
   "outputs": [],
   "source": [
    "# Category Mapping\n",
    "label_to_id = {\n",
    "    'single H1-Fucci cell sorted from G1 phase of the cell cycle only': 0,\n",
    "    'single H1-Fucci cell sorted from S phase of the cell cycle only': 1,\n",
    "    'single H1-Fucci cell sorted from G2/M phase of the cell cycle only': 2\n",
    "}\n",
    "class_num = len(label_to_id)"
   ]
  },
  {
   "cell_type": "code",
   "execution_count": 7,
   "id": "932e948f",
   "metadata": {},
   "outputs": [],
   "source": [
    "class CellCycleDataset(Dataset):\n",
    "    def __init__(self, expr_matrix, labels):\n",
    "        self.expr_matrix = expr_matrix\n",
    "        self.labels = labels\n",
    "        self.cell_ids = list(labels.index)\n",
    "        \n",
    "    def __len__(self):\n",
    "        return len(self.cell_ids)\n",
    "    \n",
    "    def __getitem__(self, idx):\n",
    "        cell_id = self.cell_ids[idx]\n",
    "        # Obtain gene expression data\n",
    "        expr_values = self.expr_matrix.loc[cell_id].values  # Ensure continuous memory\n",
    "        gene_names = self.expr_matrix.columns\n",
    "        \n",
    "        # Only retain genes with non-zero expression values\n",
    "        non_zero_indices = np.where(expr_values != 0)[0]\n",
    "        expr_values = expr_values[non_zero_indices]\n",
    "        gene_names = gene_names[non_zero_indices]\n",
    "\n",
    "        # Map gene names to IDs and filter expression values simultaneously\n",
    "        filtered_gene_ids = []\n",
    "        filtered_expr_values = []\n",
    "        for gene, value in zip(gene_names, expr_values):\n",
    "            if gene in vocab:  # Only keep genes in the vocabulary list\n",
    "                filtered_gene_ids.append(vocab[gene])\n",
    "                filtered_expr_values.append(value)\n",
    "        gene_ids = filtered_gene_ids\n",
    "        expr_values = filtered_expr_values\n",
    "        \n",
    "        # Add CLS token\n",
    "        if len(gene_ids) > max_seq_len:\n",
    "            idx = np.random.choice(len(gene_ids), max_seq_len, replace=False)\n",
    "            gene_ids = [gene_ids[i] for i in idx]\n",
    "            expr_values = [expr_values[i] for i in idx]\n",
    "             \n",
    "        # Fill sequence\n",
    "        padding_length = max_seq_len - len(gene_ids)\n",
    "        if padding_length > 0:\n",
    "            gene_ids = gene_ids + [vocab[\"<pad>\"]] * padding_length\n",
    "            expr_values = expr_values + [pad_value] * padding_length\n",
    "        gene_ids = [vocab[\"<cls>\"]] + gene_ids\n",
    "        expr_values = np.concatenate([[0.0], expr_values]) \n",
    "        \n",
    "        # Create padding mask\n",
    "        padding_mask = [False] * (max_seq_len+1)\n",
    "        for i in range(len(padding_mask)):\n",
    "            if gene_ids[i] == vocab[\"<pad>\"]:\n",
    "                padding_mask[i] = True\n",
    "        \n",
    "        # Get tags\n",
    "        label = label_to_id[self.labels[cell_id]]\n",
    "        return {\n",
    "            'gene_ids': torch.LongTensor(gene_ids),\n",
    "            'expr_values': torch.FloatTensor(expr_values),\n",
    "            'padding_mask': torch.BoolTensor(padding_mask),\n",
    "            'label': torch.as_tensor(label, dtype=torch.long)\n",
    "        }"
   ]
  },
  {
   "cell_type": "code",
   "execution_count": 8,
   "id": "7b8b62da",
   "metadata": {},
   "outputs": [],
   "source": [
    "def train():\n",
    "    device = torch.device(\"cuda:0\" if torch.cuda.is_available() else \"cpu\")\n",
    "    \n",
    "    # load dataset\n",
    "    expr_matrix = pd.read_csv(\"/home/lxz/scmamba/细胞周期/h-ESC/GSE64016_logp_10k.csv\", index_col=0)\n",
    "    adata = anndata.read_h5ad(\"/home/lxz/scmamba/细胞周期/GSE64016_adata.h5ad\")\n",
    "    expr_matrix.index = adata.obs.index\n",
    "    labels = pd.Series(adata.obs['source_name_ch1'], index=adata.obs.index)\n",
    "    mask = labels != 'single H1 hESC'\n",
    "    filtered_expr_matrix = expr_matrix[mask]\n",
    "    filtered_labels = labels[mask]\n",
    "\n",
    "    # Divide the training and test set\n",
    "    train_idx, test_idx = train_test_split(\n",
    "        np.arange(len(filtered_labels)),\n",
    "        test_size=0.3,\n",
    "        stratify=filtered_labels,\n",
    "        random_state=42\n",
    "    )\n",
    "    \n",
    "    # Create dataset\n",
    "    full_dataset = CellCycleDataset(filtered_expr_matrix, filtered_labels)\n",
    "    train_dataset = torch.utils.data.Subset(full_dataset, train_idx)\n",
    "    test_dataset = torch.utils.data.Subset(full_dataset, test_idx)\n",
    "    \n",
    "    # Create DataLoader\n",
    "    train_loader = DataLoader(train_dataset, batch_size=batch_size, shuffle=True, num_workers=4, pin_memory=True)\n",
    "    test_loader = DataLoader(test_dataset, batch_size=batch_size, shuffle=False, num_workers=4, pin_memory=True)\n",
    "    \n",
    "    # Initialize model\n",
    "    model = MambaModel(\n",
    "        ntokens, embsize, nhead, d_hid, nlayers,\n",
    "        vocab=vocab, dropout=dropout, pad_token=pad_token,\n",
    "        pad_value=pad_value, input_emb_style=input_emb_style,\n",
    "        cell_emb_style=cell_emb_style, class_num=class_num\n",
    "    ).to(device)\n",
    "\n",
    "    # Load pre-trained weights (skip classification header)\n",
    "    try:\n",
    "        pretrained_dict = torch.load(\"/home/lxz/scmamba/model_state/cell_cls_3loss_6layer_final.pth\",\n",
    "                                    map_location=device)\n",
    "        model_dict = model.state_dict()\n",
    "\n",
    "        pretrained_dict = {k: v for k, v in pretrained_dict.items()\n",
    "                        if k in model_dict and v.shape == model_dict[k].shape\n",
    "                        and not k.startswith('cls_decoder')}  # Exclude all category header parameters\n",
    "\n",
    "        model_dict.update(pretrained_dict)\n",
    "        model.load_state_dict(model_dict)\n",
    "        print(\"Successfully loaded pre training weights (excluding classification head weights)\")\n",
    "\n",
    "        # Reinitialize the classification header\n",
    "        print(\"Initialize the classification header weights...\")\n",
    "        nn.init.kaiming_normal_(model.cls_decoder.out_layer.weight, mode='fan_in', nonlinearity='relu')\n",
    "        if model.cls_decoder.out_layer.bias is not None:\n",
    "            nn.init.zeros_(model.cls_decoder.out_layer.bias)\n",
    "    except Exception as e:\n",
    "        print(f\"Failed to load pre-training weights: {str(e)}\")\n",
    "\n",
    "    # Freeze and unfreeze logic\n",
    "    print(f\"Freeze the first {nlayers - 3} layer, unfreeze the last 3 layers and classifier\")\n",
    "\n",
    "    # First, freeze all parameters\n",
    "    for param in model.parameters():\n",
    "        param.requires_grad = False\n",
    "\n",
    "    # Unfreeze the last two layers of Mamba layer\n",
    "    for i in range(nlayers - 3, nlayers):\n",
    "        layer = model.mamba_encoder[i]\n",
    "        for param in layer.parameters():\n",
    "            param.requires_grad = True\n",
    "        print(f\"Unfreeze Mamba layers {i}: Parameters trainable\")\n",
    "\n",
    "    # Unfreeze classification header\n",
    "    for param in model.cls_decoder.parameters():\n",
    "        param.requires_grad = True\n",
    "    print(\"The classifier parameters have been set to trainable\")\n",
    "\n",
    "    # Print trainable parameters\n",
    "    print(\"\\nTrainable parameters:\")\n",
    "    for name, param in model.named_parameters():\n",
    "        if param.requires_grad:\n",
    "            print(name)\n",
    "\n",
    "    # Only optimize the parameters that need to be trained\n",
    "    trainable_params = [p for p in model.parameters() if p.requires_grad]\n",
    "    print(f\"\\nNumber of trainable parameters: {sum(p.numel() for p in trainable_params)}\")\n",
    "\n",
    "    # Optimizer and loss function\n",
    "    optimizer = torch.optim.AdamW(model.parameters(), lr=lr, weight_decay=1e-4)\n",
    "    criterion = nn.CrossEntropyLoss()\n",
    "    scaler = torch.cuda.amp.GradScaler()\n",
    "    \n",
    "    # Record the training process\n",
    "    test_accuracies = []\n",
    "    train_losses = []\n",
    "    \n",
    "    # training loop\n",
    "    for epoch in range(epochs):\n",
    "        model.train()\n",
    "        total_loss = 0\n",
    "        \n",
    "        pbar = tqdm(train_loader, desc=f\"Epoch {epoch+1}/{epochs}\")\n",
    "        for batch in pbar:\n",
    "            gene_ids = batch['gene_ids'].to(device)\n",
    "            expr_values = batch['expr_values'].to(device)\n",
    "            padding_mask = batch['padding_mask'].to(device)\n",
    "            labels = batch['label'].to(device)\n",
    "            \n",
    "            optimizer.zero_grad()\n",
    "            with torch.cuda.amp.autocast():\n",
    "                outputs = model(\n",
    "                    src=gene_ids,\n",
    "                    values=expr_values,\n",
    "                    src_key_padding_mask=padding_mask\n",
    "                )\n",
    "            loss = criterion(outputs[\"cls_output\"], labels)\n",
    "            \n",
    "            scaler.scale(loss).backward()\n",
    "            scaler.unscale_(optimizer)\n",
    "            torch.nn.utils.clip_grad_norm_(model.parameters(), 1.0)\n",
    "            scaler.step(optimizer)\n",
    "            scaler.update()\n",
    "            \n",
    "            total_loss += loss.item()\n",
    "            pbar.set_postfix(loss=loss.item())\n",
    "        \n",
    "        # Record training loss\n",
    "        epoch_loss = total_loss / len(train_loader)\n",
    "        train_losses.append(epoch_loss)\n",
    "        \n",
    "        # Test set evaluation\n",
    "        model.eval()\n",
    "        test_preds, test_labels = [], []\n",
    "        all_cell_embs = []\n",
    "        with torch.no_grad():\n",
    "            for batch in test_loader:\n",
    "                gene_ids = batch['gene_ids'].to(device)\n",
    "                expr_values = batch['expr_values'].to(device)\n",
    "                padding_mask = batch['padding_mask'].to(device)\n",
    "                labels = batch['label'].to(device)\n",
    "                \n",
    "                outputs = model(src=gene_ids, values=expr_values, src_key_padding_mask=padding_mask)\n",
    "                _, predicted = torch.max(outputs[\"cls_output\"], 1)\n",
    "                cell_embs = outputs[\"cell_emb\"].cpu().numpy()\n",
    "                test_preds.extend(predicted.cpu().numpy())\n",
    "                test_labels.extend(labels.cpu().numpy())\n",
    "                all_cell_embs.append(cell_embs)\n",
    "        \n",
    "        test_accuracy = 100 * np.sum(np.array(test_preds) == np.array(test_labels)) / len(test_labels)\n",
    "        test_accuracies.append(test_accuracy)\n",
    "        all_cell_embs = np.concatenate(all_cell_embs, axis=0)\n",
    "        print(f\"Epoch {epoch+1}/{epochs} - Loss: {epoch_loss:.4f} - Test Accuracy: {test_accuracy:.2f}%\")\n",
    "    \n",
    "    # Save model and results\n",
    "    torch.save(model.state_dict(), '/home/lxz/scmamba/model_state/mamba_cell_cycle_final_ipynb.pth')\n",
    "    np.save(\"/home/lxz/scmamba/细胞周期/cell_embeddings_test.npy\", all_cell_embs)\n",
    "    \n",
    "    predictions = {\n",
    "        'preds': test_preds,\n",
    "        'labels': test_labels,\n",
    "    }\n",
    "    \n",
    "    with open('/home/lxz/scmamba/细胞周期/labels_preds_test.pkl', 'wb') as f:\n",
    "        pickle.dump(predictions, f)\n",
    "    \n",
    "    # Draw training curve\n",
    "    plt.figure(figsize=(12, 5))\n",
    "    \n",
    "    # Accuracy curve\n",
    "    plt.subplot(1, 2, 1)\n",
    "    plt.plot(range(1, epochs+1), test_accuracies, 'b-o', label='Test Accuracy')\n",
    "    plt.xlabel('Epoch')\n",
    "    plt.ylabel('Accuracy (%)')\n",
    "    plt.title('Test Accuracy vs. Epoch')\n",
    "    plt.xticks(np.arange(1, epochs+1, step=max(1, epochs//10)))\n",
    "    plt.grid(True)\n",
    "    plt.legend()\n",
    "\n",
    "    # loss curve\n",
    "    plt.subplot(1, 2, 2)\n",
    "    plt.plot(range(1, epochs+1), train_losses, 'r-o', label='Train Loss')\n",
    "    plt.xlabel('Epoch')\n",
    "    plt.ylabel('Loss')\n",
    "    plt.title('Train Loss vs. Epoch')\n",
    "    plt.xticks(np.arange(1, epochs+1, step=max(1, epochs//10)))\n",
    "    plt.grid(True)\n",
    "    plt.legend()\n",
    "\n",
    "    plt.tight_layout()\n",
    "    plt.savefig('/home/lxz/scmamba/细胞周期/training_curve_ipynb.png', dpi=300)\n",
    "    plt.show()\n",
    "    \n",
    "    \n",
    "    # Output the final result\n",
    "    print(\"\\n===== Final Test Results =====\")\n",
    "    print(f\"Final Test Accuracy: {test_accuracies[-1]:.2f}%\")\n",
    "    print(classification_report(\n",
    "        test_labels,\n",
    "        test_preds,\n",
    "        target_names=list(label_to_id.keys()),\n",
    "        digits=4\n",
    "    ))"
   ]
  },
  {
   "cell_type": "code",
   "execution_count": 9,
   "id": "8b5c98c6",
   "metadata": {
    "scrolled": false
   },
   "outputs": [
    {
     "name": "stdout",
     "output_type": "stream",
     "text": [
      "Successfully loaded pre training weights (excluding classification head weights)\n",
      "Initialize the classification header weights...\n",
      "Freeze the first 3 layer, unfreeze the last 3 layers and classifier\n",
      "Unfreeze Mamba layers 3: Parameters trainable\n",
      "Unfreeze Mamba layers 4: Parameters trainable\n",
      "Unfreeze Mamba layers 5: Parameters trainable\n",
      "The classifier parameters have been set to trainable\n",
      "\n",
      "Trainable parameters:\n",
      "cls_decoder._decoder.0.weight\n",
      "cls_decoder._decoder.0.bias\n",
      "cls_decoder._decoder.2.weight\n",
      "cls_decoder._decoder.2.bias\n",
      "cls_decoder._decoder.3.weight\n",
      "cls_decoder._decoder.3.bias\n",
      "cls_decoder._decoder.5.weight\n",
      "cls_decoder._decoder.5.bias\n",
      "cls_decoder.out_layer.weight\n",
      "cls_decoder.out_layer.bias\n",
      "mamba_encoder.3.mamba_fwd.dt_bias\n",
      "mamba_encoder.3.mamba_fwd.A_log\n",
      "mamba_encoder.3.mamba_fwd.D\n",
      "mamba_encoder.3.mamba_fwd.in_proj.weight\n",
      "mamba_encoder.3.mamba_fwd.conv1d.weight\n",
      "mamba_encoder.3.mamba_fwd.conv1d.bias\n",
      "mamba_encoder.3.mamba_fwd.norm.weight\n",
      "mamba_encoder.3.mamba_fwd.out_proj.weight\n",
      "mamba_encoder.3.mamba_rev.dt_bias\n",
      "mamba_encoder.3.mamba_rev.A_log\n",
      "mamba_encoder.3.mamba_rev.D\n",
      "mamba_encoder.3.mamba_rev.conv1d.weight\n",
      "mamba_encoder.3.mamba_rev.conv1d.bias\n",
      "mamba_encoder.3.mamba_rev.norm.weight\n",
      "mamba_encoder.4.mamba_fwd.dt_bias\n",
      "mamba_encoder.4.mamba_fwd.A_log\n",
      "mamba_encoder.4.mamba_fwd.D\n",
      "mamba_encoder.4.mamba_fwd.in_proj.weight\n",
      "mamba_encoder.4.mamba_fwd.conv1d.weight\n",
      "mamba_encoder.4.mamba_fwd.conv1d.bias\n",
      "mamba_encoder.4.mamba_fwd.norm.weight\n",
      "mamba_encoder.4.mamba_fwd.out_proj.weight\n",
      "mamba_encoder.4.mamba_rev.dt_bias\n",
      "mamba_encoder.4.mamba_rev.A_log\n",
      "mamba_encoder.4.mamba_rev.D\n",
      "mamba_encoder.4.mamba_rev.conv1d.weight\n",
      "mamba_encoder.4.mamba_rev.conv1d.bias\n",
      "mamba_encoder.4.mamba_rev.norm.weight\n",
      "mamba_encoder.5.mamba_fwd.dt_bias\n",
      "mamba_encoder.5.mamba_fwd.A_log\n",
      "mamba_encoder.5.mamba_fwd.D\n",
      "mamba_encoder.5.mamba_fwd.in_proj.weight\n",
      "mamba_encoder.5.mamba_fwd.conv1d.weight\n",
      "mamba_encoder.5.mamba_fwd.conv1d.bias\n",
      "mamba_encoder.5.mamba_fwd.norm.weight\n",
      "mamba_encoder.5.mamba_fwd.out_proj.weight\n",
      "mamba_encoder.5.mamba_rev.dt_bias\n",
      "mamba_encoder.5.mamba_rev.A_log\n",
      "mamba_encoder.5.mamba_rev.D\n",
      "mamba_encoder.5.mamba_rev.conv1d.weight\n",
      "mamba_encoder.5.mamba_rev.conv1d.bias\n",
      "mamba_encoder.5.mamba_rev.norm.weight\n",
      "\n",
      "Number of trainable parameters: 5710115\n"
     ]
    },
    {
     "name": "stderr",
     "output_type": "stream",
     "text": [
      "Epoch 1/50: 100%|███████████████████████████████████████████████████████████████████████████████████████████████████████████████████████████████████| 3/3 [00:29<00:00,  9.93s/it, loss=1.56]\n"
     ]
    },
    {
     "name": "stdout",
     "output_type": "stream",
     "text": [
      "Epoch 1/50 - Loss: 1.9089 - Test Accuracy: 34.67%\n"
     ]
    },
    {
     "name": "stderr",
     "output_type": "stream",
     "text": [
      "Epoch 2/50: 100%|███████████████████████████████████████████████████████████████████████████████████████████████████████████████████████████████████| 3/3 [00:05<00:00,  1.96s/it, loss=1.46]\n"
     ]
    },
    {
     "name": "stdout",
     "output_type": "stream",
     "text": [
      "Epoch 2/50 - Loss: 1.5332 - Test Accuracy: 40.00%\n"
     ]
    },
    {
     "name": "stderr",
     "output_type": "stream",
     "text": [
      "Epoch 3/50: 100%|███████████████████████████████████████████████████████████████████████████████████████████████████████████████████████████████████| 3/3 [00:05<00:00,  1.93s/it, loss=1.28]\n"
     ]
    },
    {
     "name": "stdout",
     "output_type": "stream",
     "text": [
      "Epoch 3/50 - Loss: 1.3079 - Test Accuracy: 40.00%\n"
     ]
    },
    {
     "name": "stderr",
     "output_type": "stream",
     "text": [
      "Epoch 4/50: 100%|███████████████████████████████████████████████████████████████████████████████████████████████████████████████████████████████████| 3/3 [00:05<00:00,  1.93s/it, loss=1.18]\n"
     ]
    },
    {
     "name": "stdout",
     "output_type": "stream",
     "text": [
      "Epoch 4/50 - Loss: 1.1800 - Test Accuracy: 33.33%\n"
     ]
    },
    {
     "name": "stderr",
     "output_type": "stream",
     "text": [
      "Epoch 5/50: 100%|███████████████████████████████████████████████████████████████████████████████████████████████████████████████████████████████████| 3/3 [00:05<00:00,  1.94s/it, loss=1.08]\n"
     ]
    },
    {
     "name": "stdout",
     "output_type": "stream",
     "text": [
      "Epoch 5/50 - Loss: 1.1455 - Test Accuracy: 34.67%\n"
     ]
    },
    {
     "name": "stderr",
     "output_type": "stream",
     "text": [
      "Epoch 6/50: 100%|███████████████████████████████████████████████████████████████████████████████████████████████████████████████████████████████████| 3/3 [00:05<00:00,  1.94s/it, loss=1.09]\n"
     ]
    },
    {
     "name": "stdout",
     "output_type": "stream",
     "text": [
      "Epoch 6/50 - Loss: 1.1481 - Test Accuracy: 37.33%\n"
     ]
    },
    {
     "name": "stderr",
     "output_type": "stream",
     "text": [
      "Epoch 7/50: 100%|███████████████████████████████████████████████████████████████████████████████████████████████████████████████████████████████████| 3/3 [00:05<00:00,  1.94s/it, loss=1.18]\n"
     ]
    },
    {
     "name": "stdout",
     "output_type": "stream",
     "text": [
      "Epoch 7/50 - Loss: 1.1572 - Test Accuracy: 37.33%\n"
     ]
    },
    {
     "name": "stderr",
     "output_type": "stream",
     "text": [
      "Epoch 8/50: 100%|████████████████████████████████████████████████████████████████████████████████████████████████████████████████████████████████████| 3/3 [00:05<00:00,  1.93s/it, loss=1.2]\n"
     ]
    },
    {
     "name": "stdout",
     "output_type": "stream",
     "text": [
      "Epoch 8/50 - Loss: 1.1709 - Test Accuracy: 32.00%\n"
     ]
    },
    {
     "name": "stderr",
     "output_type": "stream",
     "text": [
      "Epoch 9/50: 100%|██████████████████████████████████████████████████████████████████████████████████████████████████████████████████████████████████| 3/3 [00:05<00:00,  1.94s/it, loss=0.946]\n"
     ]
    },
    {
     "name": "stdout",
     "output_type": "stream",
     "text": [
      "Epoch 9/50 - Loss: 1.0335 - Test Accuracy: 38.67%\n"
     ]
    },
    {
     "name": "stderr",
     "output_type": "stream",
     "text": [
      "Epoch 10/50: 100%|██████████████████████████████████████████████████████████████████████████████████████████████████████████████████████████████████| 3/3 [00:05<00:00,  1.93s/it, loss=1.12]\n"
     ]
    },
    {
     "name": "stdout",
     "output_type": "stream",
     "text": [
      "Epoch 10/50 - Loss: 1.1016 - Test Accuracy: 44.00%\n"
     ]
    },
    {
     "name": "stderr",
     "output_type": "stream",
     "text": [
      "Epoch 11/50: 100%|██████████████████████████████████████████████████████████████████████████████████████████████████████████████████████████████████| 3/3 [00:05<00:00,  1.94s/it, loss=1.01]\n"
     ]
    },
    {
     "name": "stdout",
     "output_type": "stream",
     "text": [
      "Epoch 11/50 - Loss: 1.0472 - Test Accuracy: 42.67%\n"
     ]
    },
    {
     "name": "stderr",
     "output_type": "stream",
     "text": [
      "Epoch 12/50: 100%|██████████████████████████████████████████████████████████████████████████████████████████████████████████████████████████████████| 3/3 [00:05<00:00,  1.94s/it, loss=1.14]\n"
     ]
    },
    {
     "name": "stdout",
     "output_type": "stream",
     "text": [
      "Epoch 12/50 - Loss: 1.1094 - Test Accuracy: 38.67%\n"
     ]
    },
    {
     "name": "stderr",
     "output_type": "stream",
     "text": [
      "Epoch 13/50: 100%|██████████████████████████████████████████████████████████████████████████████████████████████████████████████████████████████████| 3/3 [00:05<00:00,  1.94s/it, loss=1.04]\n"
     ]
    },
    {
     "name": "stdout",
     "output_type": "stream",
     "text": [
      "Epoch 13/50 - Loss: 1.0615 - Test Accuracy: 45.33%\n"
     ]
    },
    {
     "name": "stderr",
     "output_type": "stream",
     "text": [
      "Epoch 14/50: 100%|██████████████████████████████████████████████████████████████████████████████████████████████████████████████████████████████████| 3/3 [00:05<00:00,  1.95s/it, loss=1.13]\n"
     ]
    },
    {
     "name": "stdout",
     "output_type": "stream",
     "text": [
      "Epoch 14/50 - Loss: 1.0967 - Test Accuracy: 45.33%\n"
     ]
    },
    {
     "name": "stderr",
     "output_type": "stream",
     "text": [
      "Epoch 15/50: 100%|██████████████████████████████████████████████████████████████████████████████████████████████████████████████████████████████████| 3/3 [00:05<00:00,  1.94s/it, loss=1.08]\n"
     ]
    },
    {
     "name": "stdout",
     "output_type": "stream",
     "text": [
      "Epoch 15/50 - Loss: 1.0322 - Test Accuracy: 40.00%\n"
     ]
    },
    {
     "name": "stderr",
     "output_type": "stream",
     "text": [
      "Epoch 16/50: 100%|██████████████████████████████████████████████████████████████████████████████████████████████████████████████████████████████████| 3/3 [00:05<00:00,  1.94s/it, loss=1.08]\n"
     ]
    },
    {
     "name": "stdout",
     "output_type": "stream",
     "text": [
      "Epoch 16/50 - Loss: 1.0583 - Test Accuracy: 40.00%\n"
     ]
    },
    {
     "name": "stderr",
     "output_type": "stream",
     "text": [
      "Epoch 17/50: 100%|█████████████████████████████████████████████████████████████████████████████████████████████████████████████████████████████████████| 3/3 [00:05<00:00,  1.94s/it, loss=1]\n"
     ]
    },
    {
     "name": "stdout",
     "output_type": "stream",
     "text": [
      "Epoch 17/50 - Loss: 1.0361 - Test Accuracy: 34.67%\n"
     ]
    },
    {
     "name": "stderr",
     "output_type": "stream",
     "text": [
      "Epoch 18/50: 100%|██████████████████████████████████████████████████████████████████████████████████████████████████████████████████████████████████| 3/3 [00:05<00:00,  1.95s/it, loss=1.01]\n"
     ]
    },
    {
     "name": "stdout",
     "output_type": "stream",
     "text": [
      "Epoch 18/50 - Loss: 1.0127 - Test Accuracy: 50.67%\n"
     ]
    },
    {
     "name": "stderr",
     "output_type": "stream",
     "text": [
      "Epoch 19/50: 100%|█████████████████████████████████████████████████████████████████████████████████████████████████████████████████████████████████| 3/3 [00:05<00:00,  1.94s/it, loss=0.959]\n"
     ]
    },
    {
     "name": "stdout",
     "output_type": "stream",
     "text": [
      "Epoch 19/50 - Loss: 1.0314 - Test Accuracy: 34.67%\n"
     ]
    },
    {
     "name": "stderr",
     "output_type": "stream",
     "text": [
      "Epoch 20/50: 100%|██████████████████████████████████████████████████████████████████████████████████████████████████████████████████████████████████| 3/3 [00:05<00:00,  1.94s/it, loss=1.02]\n"
     ]
    },
    {
     "name": "stdout",
     "output_type": "stream",
     "text": [
      "Epoch 20/50 - Loss: 1.0309 - Test Accuracy: 40.00%\n"
     ]
    },
    {
     "name": "stderr",
     "output_type": "stream",
     "text": [
      "Epoch 21/50: 100%|██████████████████████████████████████████████████████████████████████████████████████████████████████████████████████████████████| 3/3 [00:05<00:00,  1.95s/it, loss=1.12]\n"
     ]
    },
    {
     "name": "stdout",
     "output_type": "stream",
     "text": [
      "Epoch 21/50 - Loss: 1.0439 - Test Accuracy: 42.67%\n"
     ]
    },
    {
     "name": "stderr",
     "output_type": "stream",
     "text": [
      "Epoch 22/50: 100%|██████████████████████████████████████████████████████████████████████████████████████████████████████████████████████████████████| 3/3 [00:05<00:00,  1.94s/it, loss=1.08]\n"
     ]
    },
    {
     "name": "stdout",
     "output_type": "stream",
     "text": [
      "Epoch 22/50 - Loss: 1.0319 - Test Accuracy: 48.00%\n"
     ]
    },
    {
     "name": "stderr",
     "output_type": "stream",
     "text": [
      "Epoch 23/50: 100%|██████████████████████████████████████████████████████████████████████████████████████████████████████████████████████████████████| 3/3 [00:05<00:00,  1.94s/it, loss=1.12]\n"
     ]
    },
    {
     "name": "stdout",
     "output_type": "stream",
     "text": [
      "Epoch 23/50 - Loss: 1.0470 - Test Accuracy: 42.67%\n"
     ]
    },
    {
     "name": "stderr",
     "output_type": "stream",
     "text": [
      "Epoch 24/50: 100%|█████████████████████████████████████████████████████████████████████████████████████████████████████████████████████████████████| 3/3 [00:05<00:00,  1.94s/it, loss=0.948]\n"
     ]
    },
    {
     "name": "stdout",
     "output_type": "stream",
     "text": [
      "Epoch 24/50 - Loss: 1.0024 - Test Accuracy: 44.00%\n"
     ]
    },
    {
     "name": "stderr",
     "output_type": "stream",
     "text": [
      "Epoch 25/50: 100%|██████████████████████████████████████████████████████████████████████████████████████████████████████████████████████████████████| 3/3 [00:05<00:00,  1.94s/it, loss=1.04]\n"
     ]
    },
    {
     "name": "stdout",
     "output_type": "stream",
     "text": [
      "Epoch 25/50 - Loss: 1.0410 - Test Accuracy: 46.67%\n"
     ]
    },
    {
     "name": "stderr",
     "output_type": "stream",
     "text": [
      "Epoch 26/50: 100%|█████████████████████████████████████████████████████████████████████████████████████████████████████████████████████████████████| 3/3 [00:05<00:00,  1.94s/it, loss=0.938]\n"
     ]
    },
    {
     "name": "stdout",
     "output_type": "stream",
     "text": [
      "Epoch 26/50 - Loss: 0.9688 - Test Accuracy: 42.67%\n"
     ]
    },
    {
     "name": "stderr",
     "output_type": "stream",
     "text": [
      "Epoch 27/50: 100%|██████████████████████████████████████████████████████████████████████████████████████████████████████████████████████████████████| 3/3 [00:05<00:00,  1.94s/it, loss=1.06]\n"
     ]
    },
    {
     "name": "stdout",
     "output_type": "stream",
     "text": [
      "Epoch 27/50 - Loss: 1.0641 - Test Accuracy: 48.00%\n"
     ]
    },
    {
     "name": "stderr",
     "output_type": "stream",
     "text": [
      "Epoch 28/50: 100%|█████████████████████████████████████████████████████████████████████████████████████████████████████████████████████████████████| 3/3 [00:05<00:00,  1.94s/it, loss=0.931]\n"
     ]
    },
    {
     "name": "stdout",
     "output_type": "stream",
     "text": [
      "Epoch 28/50 - Loss: 0.9704 - Test Accuracy: 53.33%\n"
     ]
    },
    {
     "name": "stderr",
     "output_type": "stream",
     "text": [
      "Epoch 29/50: 100%|██████████████████████████████████████████████████████████████████████████████████████████████████████████████████████████████████| 3/3 [00:05<00:00,  1.95s/it, loss=1.02]\n"
     ]
    },
    {
     "name": "stdout",
     "output_type": "stream",
     "text": [
      "Epoch 29/50 - Loss: 0.9915 - Test Accuracy: 44.00%\n"
     ]
    },
    {
     "name": "stderr",
     "output_type": "stream",
     "text": [
      "Epoch 30/50: 100%|██████████████████████████████████████████████████████████████████████████████████████████████████████████████████████████████████| 3/3 [00:05<00:00,  1.94s/it, loss=1.02]\n"
     ]
    },
    {
     "name": "stdout",
     "output_type": "stream",
     "text": [
      "Epoch 30/50 - Loss: 1.0094 - Test Accuracy: 48.00%\n"
     ]
    },
    {
     "name": "stderr",
     "output_type": "stream",
     "text": [
      "Epoch 31/50: 100%|██████████████████████████████████████████████████████████████████████████████████████████████████████████████████████████████████| 3/3 [00:05<00:00,  1.94s/it, loss=1.02]\n"
     ]
    },
    {
     "name": "stdout",
     "output_type": "stream",
     "text": [
      "Epoch 31/50 - Loss: 1.0273 - Test Accuracy: 53.33%\n"
     ]
    },
    {
     "name": "stderr",
     "output_type": "stream",
     "text": [
      "Epoch 32/50: 100%|█████████████████████████████████████████████████████████████████████████████████████████████████████████████████████████████████| 3/3 [00:05<00:00,  1.93s/it, loss=0.979]\n"
     ]
    },
    {
     "name": "stdout",
     "output_type": "stream",
     "text": [
      "Epoch 32/50 - Loss: 0.9878 - Test Accuracy: 50.67%\n"
     ]
    },
    {
     "name": "stderr",
     "output_type": "stream",
     "text": [
      "Epoch 33/50: 100%|███████████████████████████████████████████████████████████████████████████████████████████████████████████████████████████████████| 3/3 [00:05<00:00,  1.95s/it, loss=1.1]\n"
     ]
    },
    {
     "name": "stdout",
     "output_type": "stream",
     "text": [
      "Epoch 33/50 - Loss: 1.0514 - Test Accuracy: 52.00%\n"
     ]
    },
    {
     "name": "stderr",
     "output_type": "stream",
     "text": [
      "Epoch 34/50: 100%|█████████████████████████████████████████████████████████████████████████████████████████████████████████████████████████████████| 3/3 [00:05<00:00,  1.94s/it, loss=0.999]\n"
     ]
    },
    {
     "name": "stdout",
     "output_type": "stream",
     "text": [
      "Epoch 34/50 - Loss: 1.0252 - Test Accuracy: 46.67%\n"
     ]
    },
    {
     "name": "stderr",
     "output_type": "stream",
     "text": [
      "Epoch 35/50: 100%|█████████████████████████████████████████████████████████████████████████████████████████████████████████████████████████████████| 3/3 [00:05<00:00,  1.94s/it, loss=0.975]\n"
     ]
    },
    {
     "name": "stdout",
     "output_type": "stream",
     "text": [
      "Epoch 35/50 - Loss: 0.9899 - Test Accuracy: 42.67%\n"
     ]
    },
    {
     "name": "stderr",
     "output_type": "stream",
     "text": [
      "Epoch 36/50: 100%|█████████████████████████████████████████████████████████████████████████████████████████████████████████████████████████████████| 3/3 [00:05<00:00,  1.94s/it, loss=0.892]\n"
     ]
    },
    {
     "name": "stdout",
     "output_type": "stream",
     "text": [
      "Epoch 36/50 - Loss: 0.9961 - Test Accuracy: 53.33%\n"
     ]
    },
    {
     "name": "stderr",
     "output_type": "stream",
     "text": [
      "Epoch 37/50: 100%|██████████████████████████████████████████████████████████████████████████████████████████████████████████████████████████████████| 3/3 [00:05<00:00,  1.94s/it, loss=1.05]\n"
     ]
    },
    {
     "name": "stdout",
     "output_type": "stream",
     "text": [
      "Epoch 37/50 - Loss: 1.0218 - Test Accuracy: 44.00%\n"
     ]
    },
    {
     "name": "stderr",
     "output_type": "stream",
     "text": [
      "Epoch 38/50: 100%|█████████████████████████████████████████████████████████████████████████████████████████████████████████████████████████████████| 3/3 [00:05<00:00,  1.94s/it, loss=0.941]\n"
     ]
    },
    {
     "name": "stdout",
     "output_type": "stream",
     "text": [
      "Epoch 38/50 - Loss: 0.9779 - Test Accuracy: 48.00%\n"
     ]
    },
    {
     "name": "stderr",
     "output_type": "stream",
     "text": [
      "Epoch 39/50: 100%|█████████████████████████████████████████████████████████████████████████████████████████████████████████████████████████████████| 3/3 [00:05<00:00,  1.93s/it, loss=0.952]\n"
     ]
    },
    {
     "name": "stdout",
     "output_type": "stream",
     "text": [
      "Epoch 39/50 - Loss: 0.9759 - Test Accuracy: 46.67%\n"
     ]
    },
    {
     "name": "stderr",
     "output_type": "stream",
     "text": [
      "Epoch 40/50: 100%|██████████████████████████████████████████████████████████████████████████████████████████████████████████████████████████████████| 3/3 [00:05<00:00,  1.94s/it, loss=1.13]\n"
     ]
    },
    {
     "name": "stdout",
     "output_type": "stream",
     "text": [
      "Epoch 40/50 - Loss: 1.0592 - Test Accuracy: 46.67%\n"
     ]
    },
    {
     "name": "stderr",
     "output_type": "stream",
     "text": [
      "Epoch 41/50: 100%|██████████████████████████████████████████████████████████████████████████████████████████████████████████████████████████████████| 3/3 [00:05<00:00,  1.95s/it, loss=1.04]\n"
     ]
    },
    {
     "name": "stdout",
     "output_type": "stream",
     "text": [
      "Epoch 41/50 - Loss: 0.9795 - Test Accuracy: 48.00%\n"
     ]
    },
    {
     "name": "stderr",
     "output_type": "stream",
     "text": [
      "Epoch 42/50: 100%|█████████████████████████████████████████████████████████████████████████████████████████████████████████████████████████████████| 3/3 [00:05<00:00,  1.94s/it, loss=0.908]\n"
     ]
    },
    {
     "name": "stdout",
     "output_type": "stream",
     "text": [
      "Epoch 42/50 - Loss: 0.9274 - Test Accuracy: 52.00%\n"
     ]
    },
    {
     "name": "stderr",
     "output_type": "stream",
     "text": [
      "Epoch 43/50: 100%|█████████████████████████████████████████████████████████████████████████████████████████████████████████████████████████████████| 3/3 [00:05<00:00,  1.94s/it, loss=0.968]\n"
     ]
    },
    {
     "name": "stdout",
     "output_type": "stream",
     "text": [
      "Epoch 43/50 - Loss: 0.9699 - Test Accuracy: 45.33%\n"
     ]
    },
    {
     "name": "stderr",
     "output_type": "stream",
     "text": [
      "Epoch 44/50: 100%|██████████████████████████████████████████████████████████████████████████████████████████████████████████████████████████████████| 3/3 [00:05<00:00,  1.93s/it, loss=1.03]\n"
     ]
    },
    {
     "name": "stdout",
     "output_type": "stream",
     "text": [
      "Epoch 44/50 - Loss: 1.0072 - Test Accuracy: 48.00%\n"
     ]
    },
    {
     "name": "stderr",
     "output_type": "stream",
     "text": [
      "Epoch 45/50: 100%|█████████████████████████████████████████████████████████████████████████████████████████████████████████████████████████████████| 3/3 [00:05<00:00,  1.94s/it, loss=0.979]\n"
     ]
    },
    {
     "name": "stdout",
     "output_type": "stream",
     "text": [
      "Epoch 45/50 - Loss: 0.9627 - Test Accuracy: 54.67%\n"
     ]
    },
    {
     "name": "stderr",
     "output_type": "stream",
     "text": [
      "Epoch 46/50: 100%|█████████████████████████████████████████████████████████████████████████████████████████████████████████████████████████████████| 3/3 [00:05<00:00,  1.94s/it, loss=0.937]\n"
     ]
    },
    {
     "name": "stdout",
     "output_type": "stream",
     "text": [
      "Epoch 46/50 - Loss: 0.9515 - Test Accuracy: 50.67%\n"
     ]
    },
    {
     "name": "stderr",
     "output_type": "stream",
     "text": [
      "Epoch 47/50: 100%|█████████████████████████████████████████████████████████████████████████████████████████████████████████████████████████████████| 3/3 [00:05<00:00,  1.94s/it, loss=0.897]\n"
     ]
    },
    {
     "name": "stdout",
     "output_type": "stream",
     "text": [
      "Epoch 47/50 - Loss: 0.9639 - Test Accuracy: 54.67%\n"
     ]
    },
    {
     "name": "stderr",
     "output_type": "stream",
     "text": [
      "Epoch 48/50: 100%|█████████████████████████████████████████████████████████████████████████████████████████████████████████████████████████████████| 3/3 [00:05<00:00,  1.93s/it, loss=0.934]\n"
     ]
    },
    {
     "name": "stdout",
     "output_type": "stream",
     "text": [
      "Epoch 48/50 - Loss: 0.9372 - Test Accuracy: 45.33%\n"
     ]
    },
    {
     "name": "stderr",
     "output_type": "stream",
     "text": [
      "Epoch 49/50: 100%|█████████████████████████████████████████████████████████████████████████████████████████████████████████████████████████████████| 3/3 [00:05<00:00,  1.94s/it, loss=0.949]\n"
     ]
    },
    {
     "name": "stdout",
     "output_type": "stream",
     "text": [
      "Epoch 49/50 - Loss: 1.0137 - Test Accuracy: 50.67%\n"
     ]
    },
    {
     "name": "stderr",
     "output_type": "stream",
     "text": [
      "Epoch 50/50: 100%|██████████████████████████████████████████████████████████████████████████████████████████████████████████████████████████████████| 3/3 [00:05<00:00,  1.94s/it, loss=0.81]\n"
     ]
    },
    {
     "name": "stdout",
     "output_type": "stream",
     "text": [
      "Epoch 50/50 - Loss: 0.9299 - Test Accuracy: 44.00%\n"
     ]
    },
    {
     "data": {
      "image/png": "[encoded data removed]",
      "text/plain": [
       "<Figure size 1200x500 with 2 Axes>"
      ]
     },
     "metadata": {},
     "output_type": "display_data"
    },
    {
     "name": "stdout",
     "output_type": "stream",
     "text": [
      "\n",
      "===== Final Test Results =====\n",
      "Final Test Accuracy: 44.00%\n",
      "                                                                    precision    recall  f1-score   support\n",
      "\n",
      "  single H1-Fucci cell sorted from G1 phase of the cell cycle only     0.4400    0.3929    0.4151        28\n",
      "   single H1-Fucci cell sorted from S phase of the cell cycle only     0.4194    0.5417    0.4727        24\n",
      "single H1-Fucci cell sorted from G2/M phase of the cell cycle only     0.4737    0.3913    0.4286        23\n",
      "\n",
      "                                                          accuracy                         0.4400        75\n",
      "                                                         macro avg     0.4443    0.4419    0.4388        75\n",
      "                                                      weighted avg     0.4437    0.4400    0.4377        75\n",
      "\n"
     ]
    }
   ],
   "source": [
    "if __name__ == \"__main__\":\n",
    "    train()"
   ]
  },
  {
   "cell_type": "code",
   "execution_count": null,
   "id": "c1c76041",
   "metadata": {},
   "outputs": [],
   "source": []
  }
 ],
 "metadata": {
  "kernelspec": {
   "display_name": "Python 3 (ipykernel)",
   "language": "python",
   "name": "python3"
  },
  "language_info": {
   "codemirror_mode": {
    "name": "ipython",
    "version": 3
   },
   "file_extension": ".py",
   "mimetype": "text/x-python",
   "name": "python",
   "nbconvert_exporter": "python",
   "pygments_lexer": "ipython3",
   "version": "3.10.16"
  }
 },
 "nbformat": 4,
 "nbformat_minor": 5
}
