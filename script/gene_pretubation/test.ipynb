{
 "cells": [
  {
   "cell_type": "code",
   "execution_count": 2,
   "id": "8f225148",
   "metadata": {},
   "outputs": [
    {
     "name": "stdout",
     "output_type": "stream",
     "text": [
      "adata.obs 的列名: ['condition', 'pert_type', 'cell_type', 'guide_identity', 'read_count', 'UMI_count', 'coverage', 'gemgroup', 'good_coverage', 'number_of_cells', 'n_genes', 'cell_type_condition', 'lane', 'dose_val', 'control', 'condition_name', 'total_count']\n",
      "adata.var 的列名: ['gene_name', 'highly_variable', 'means', 'dispersions', 'dispersions_norm']\n",
      "adata.var 的索引: None\n"
     ]
    }
   ],
   "source": [
    "import scanpy as sc\n",
    "import pandas as pd\n",
    "from sklearn.model_selection import train_test_split\n",
    "import numpy as np\n",
    "\n",
    "# 读取h5ad文件\n",
    "adata = sc.read(\"/home/lxz/scmamba/gene_pretubation/norman.h5ad\")\n",
    "a=adata.obs\n",
    "b=adata.var\n",
    "print(\"adata.obs 的列名:\", adata.obs.columns.tolist())\n",
    "print(\"adata.var 的列名:\", adata.var.columns.tolist())\n",
    "print(\"adata.var 的索引:\", adata.var.index.name)\n",
    "\n",
    "# 检查基因名称的存储位置\n",
    "# 通常基因名称可能在：\n",
    "# 1. adata.var.index (索引)\n",
    "# 2. adata.var['gene_name'] 或类似的列\n",
    "# 3. adata.var['gene_names']\n",
    "\n",
    "# 方法1：检查索引\n",
    "if \"HMGA2\" in adata.var.index:\n",
    "    print(\"##### HMGA2 found in var index\")"
   ]
  },
  {
   "cell_type": "code",
   "execution_count": 14,
   "id": "000ebd99",
   "metadata": {},
   "outputs": [
    {
     "name": "stdout",
     "output_type": "stream",
     "text": [
      "数据集包含 47795 个细胞和 1069 个基因\n",
      "前10个基因名称: ['IL7R', 'GYPB', 'SEZ6', 'ELMO1', 'RPS10', 'FCER1G', 'CTRB2', 'HBG2', 'XAF1', 'CTTNBP2']\n",
      "筛选后ctrl细胞数量: 3952\n"
     ]
    },
    {
     "name": "stderr",
     "output_type": "stream",
     "text": [
      "Extracting gene embeddings:   0%|          | 0/16 [00:00<?, ?it/s]"
     ]
    },
    {
     "name": "stdout",
     "output_type": "stream",
     "text": [
      "tensor([[60695, 12051, 10670,  ..., 19574,  3836,  5535],\n",
      "        [60695, 12051, 10670,  ..., 19574,  3836,  5535],\n",
      "        [60695, 12051, 10670,  ..., 19574,  3836,  5535],\n",
      "        ...,\n",
      "        [60695, 12051, 10670,  ..., 19574,  3836,  5535],\n",
      "        [60695, 12051, 10670,  ..., 19574,  3836,  5535],\n",
      "        [60695, 12051, 10670,  ..., 19574,  3836,  5535]], device='cuda:0')\n"
     ]
    },
    {
     "name": "stderr",
     "output_type": "stream",
     "text": [
      "Extracting gene embeddings:   6%|▋         | 1/16 [00:01<00:20,  1.36s/it]"
     ]
    },
    {
     "name": "stdout",
     "output_type": "stream",
     "text": [
      "tensor([[60695, 12051, 10670,  ..., 19574,  3836,  5535],\n",
      "        [60695, 12051, 10670,  ..., 19574,  3836,  5535],\n",
      "        [60695, 12051, 10670,  ..., 19574,  3836,  5535],\n",
      "        ...,\n",
      "        [60695, 12051, 10670,  ..., 19574,  3836,  5535],\n",
      "        [60695, 12051, 10670,  ..., 19574,  3836,  5535],\n",
      "        [60695, 12051, 10670,  ..., 19574,  3836,  5535]], device='cuda:0')\n"
     ]
    },
    {
     "name": "stderr",
     "output_type": "stream",
     "text": [
      "Extracting gene embeddings:  12%|█▎        | 2/16 [00:02<00:17,  1.21s/it]"
     ]
    },
    {
     "name": "stdout",
     "output_type": "stream",
     "text": [
      "tensor([[60695, 12051, 10670,  ..., 19574,  3836,  5535],\n",
      "        [60695, 12051, 10670,  ..., 19574,  3836,  5535],\n",
      "        [60695, 12051, 10670,  ..., 19574,  3836,  5535],\n",
      "        ...,\n",
      "        [60695, 12051, 10670,  ..., 19574,  3836,  5535],\n",
      "        [60695, 12051, 10670,  ..., 19574,  3836,  5535],\n",
      "        [60695, 12051, 10670,  ..., 19574,  3836,  5535]], device='cuda:0')\n"
     ]
    },
    {
     "name": "stderr",
     "output_type": "stream",
     "text": [
      "Extracting gene embeddings:  19%|█▉        | 3/16 [00:03<00:15,  1.17s/it]"
     ]
    },
    {
     "name": "stdout",
     "output_type": "stream",
     "text": [
      "tensor([[60695, 12051, 10670,  ..., 19574,  3836,  5535],\n",
      "        [60695, 12051, 10670,  ..., 19574,  3836,  5535],\n",
      "        [60695, 12051, 10670,  ..., 19574,  3836,  5535],\n",
      "        ...,\n",
      "        [60695, 12051, 10670,  ..., 19574,  3836,  5535],\n",
      "        [60695, 12051, 10670,  ..., 19574,  3836,  5535],\n",
      "        [60695, 12051, 10670,  ..., 19574,  3836,  5535]], device='cuda:0')\n"
     ]
    },
    {
     "name": "stderr",
     "output_type": "stream",
     "text": [
      "Extracting gene embeddings:  25%|██▌       | 4/16 [00:04<00:13,  1.14s/it]"
     ]
    },
    {
     "name": "stdout",
     "output_type": "stream",
     "text": [
      "tensor([[60695, 12051, 10670,  ..., 19574,  3836,  5535],\n",
      "        [60695, 12051, 10670,  ..., 19574,  3836,  5535],\n",
      "        [60695, 12051, 10670,  ..., 19574,  3836,  5535],\n",
      "        ...,\n",
      "        [60695, 12051, 10670,  ..., 19574,  3836,  5535],\n",
      "        [60695, 12051, 10670,  ..., 19574,  3836,  5535],\n",
      "        [60695, 12051, 10670,  ..., 19574,  3836,  5535]], device='cuda:0')\n"
     ]
    },
    {
     "name": "stderr",
     "output_type": "stream",
     "text": [
      "Extracting gene embeddings:  31%|███▏      | 5/16 [00:05<00:12,  1.13s/it]"
     ]
    },
    {
     "name": "stdout",
     "output_type": "stream",
     "text": [
      "tensor([[60695, 12051, 10670,  ..., 19574,  3836,  5535],\n",
      "        [60695, 12051, 10670,  ..., 19574,  3836,  5535],\n",
      "        [60695, 12051, 10670,  ..., 19574,  3836,  5535],\n",
      "        ...,\n",
      "        [60695, 12051, 10670,  ..., 19574,  3836,  5535],\n",
      "        [60695, 12051, 10670,  ..., 19574,  3836,  5535],\n",
      "        [60695, 12051, 10670,  ..., 19574,  3836,  5535]], device='cuda:0')\n"
     ]
    },
    {
     "name": "stderr",
     "output_type": "stream",
     "text": [
      "Extracting gene embeddings:  38%|███▊      | 6/16 [00:06<00:11,  1.12s/it]"
     ]
    },
    {
     "name": "stdout",
     "output_type": "stream",
     "text": [
      "tensor([[60695, 12051, 10670,  ..., 19574,  3836,  5535],\n",
      "        [60695, 12051, 10670,  ..., 19574,  3836,  5535],\n",
      "        [60695, 12051, 10670,  ..., 19574,  3836,  5535],\n",
      "        ...,\n",
      "        [60695, 12051, 10670,  ..., 19574,  3836,  5535],\n",
      "        [60695, 12051, 10670,  ..., 19574,  3836,  5535],\n",
      "        [60695, 12051, 10670,  ..., 19574,  3836,  5535]], device='cuda:0')\n"
     ]
    },
    {
     "name": "stderr",
     "output_type": "stream",
     "text": [
      "Extracting gene embeddings:  44%|████▍     | 7/16 [00:08<00:10,  1.12s/it]"
     ]
    },
    {
     "name": "stdout",
     "output_type": "stream",
     "text": [
      "tensor([[60695, 12051, 10670,  ..., 19574,  3836,  5535],\n",
      "        [60695, 12051, 10670,  ..., 19574,  3836,  5535],\n",
      "        [60695, 12051, 10670,  ..., 19574,  3836,  5535],\n",
      "        ...,\n",
      "        [60695, 12051, 10670,  ..., 19574,  3836,  5535],\n",
      "        [60695, 12051, 10670,  ..., 19574,  3836,  5535],\n",
      "        [60695, 12051, 10670,  ..., 19574,  3836,  5535]], device='cuda:0')\n"
     ]
    },
    {
     "name": "stderr",
     "output_type": "stream",
     "text": [
      "Extracting gene embeddings:  50%|█████     | 8/16 [00:09<00:08,  1.12s/it]"
     ]
    },
    {
     "name": "stdout",
     "output_type": "stream",
     "text": [
      "tensor([[60695, 12051, 10670,  ..., 19574,  3836,  5535],\n",
      "        [60695, 12051, 10670,  ..., 19574,  3836,  5535],\n",
      "        [60695, 12051, 10670,  ..., 19574,  3836,  5535],\n",
      "        ...,\n",
      "        [60695, 12051, 10670,  ..., 19574,  3836,  5535],\n",
      "        [60695, 12051, 10670,  ..., 19574,  3836,  5535],\n",
      "        [60695, 12051, 10670,  ..., 19574,  3836,  5535]], device='cuda:0')\n"
     ]
    },
    {
     "name": "stderr",
     "output_type": "stream",
     "text": [
      "Extracting gene embeddings:  56%|█████▋    | 9/16 [00:10<00:07,  1.12s/it]"
     ]
    },
    {
     "name": "stdout",
     "output_type": "stream",
     "text": [
      "tensor([[60695, 12051, 10670,  ..., 19574,  3836,  5535],\n",
      "        [60695, 12051, 10670,  ..., 19574,  3836,  5535],\n",
      "        [60695, 12051, 10670,  ..., 19574,  3836,  5535],\n",
      "        ...,\n",
      "        [60695, 12051, 10670,  ..., 19574,  3836,  5535],\n",
      "        [60695, 12051, 10670,  ..., 19574,  3836,  5535],\n",
      "        [60695, 12051, 10670,  ..., 19574,  3836,  5535]], device='cuda:0')\n"
     ]
    },
    {
     "name": "stderr",
     "output_type": "stream",
     "text": [
      "Extracting gene embeddings:  62%|██████▎   | 10/16 [00:11<00:06,  1.11s/it]"
     ]
    },
    {
     "name": "stdout",
     "output_type": "stream",
     "text": [
      "tensor([[60695, 12051, 10670,  ..., 19574,  3836,  5535],\n",
      "        [60695, 12051, 10670,  ..., 19574,  3836,  5535],\n",
      "        [60695, 12051, 10670,  ..., 19574,  3836,  5535],\n",
      "        ...,\n",
      "        [60695, 12051, 10670,  ..., 19574,  3836,  5535],\n",
      "        [60695, 12051, 10670,  ..., 19574,  3836,  5535],\n",
      "        [60695, 12051, 10670,  ..., 19574,  3836,  5535]], device='cuda:0')\n"
     ]
    },
    {
     "name": "stderr",
     "output_type": "stream",
     "text": [
      "Extracting gene embeddings:  69%|██████▉   | 11/16 [00:12<00:05,  1.11s/it]"
     ]
    },
    {
     "name": "stdout",
     "output_type": "stream",
     "text": [
      "tensor([[60695, 12051, 10670,  ..., 19574,  3836,  5535],\n",
      "        [60695, 12051, 10670,  ..., 19574,  3836,  5535],\n",
      "        [60695, 12051, 10670,  ..., 19574,  3836,  5535],\n",
      "        ...,\n",
      "        [60695, 12051, 10670,  ..., 19574,  3836,  5535],\n",
      "        [60695, 12051, 10670,  ..., 19574,  3836,  5535],\n",
      "        [60695, 12051, 10670,  ..., 19574,  3836,  5535]], device='cuda:0')\n"
     ]
    },
    {
     "name": "stderr",
     "output_type": "stream",
     "text": [
      "Extracting gene embeddings:  75%|███████▌  | 12/16 [00:13<00:04,  1.11s/it]"
     ]
    },
    {
     "name": "stdout",
     "output_type": "stream",
     "text": [
      "tensor([[60695, 12051, 10670,  ..., 19574,  3836,  5535],\n",
      "        [60695, 12051, 10670,  ..., 19574,  3836,  5535],\n",
      "        [60695, 12051, 10670,  ..., 19574,  3836,  5535],\n",
      "        ...,\n",
      "        [60695, 12051, 10670,  ..., 19574,  3836,  5535],\n",
      "        [60695, 12051, 10670,  ..., 19574,  3836,  5535],\n",
      "        [60695, 12051, 10670,  ..., 19574,  3836,  5535]], device='cuda:0')\n"
     ]
    },
    {
     "name": "stderr",
     "output_type": "stream",
     "text": [
      "Extracting gene embeddings:  81%|████████▏ | 13/16 [00:14<00:03,  1.11s/it]"
     ]
    },
    {
     "name": "stdout",
     "output_type": "stream",
     "text": [
      "tensor([[60695, 12051, 10670,  ..., 19574,  3836,  5535],\n",
      "        [60695, 12051, 10670,  ..., 19574,  3836,  5535],\n",
      "        [60695, 12051, 10670,  ..., 19574,  3836,  5535],\n",
      "        ...,\n",
      "        [60695, 12051, 10670,  ..., 19574,  3836,  5535],\n",
      "        [60695, 12051, 10670,  ..., 19574,  3836,  5535],\n",
      "        [60695, 12051, 10670,  ..., 19574,  3836,  5535]], device='cuda:0')\n"
     ]
    },
    {
     "name": "stderr",
     "output_type": "stream",
     "text": [
      "Extracting gene embeddings:  88%|████████▊ | 14/16 [00:15<00:02,  1.10s/it]"
     ]
    },
    {
     "name": "stdout",
     "output_type": "stream",
     "text": [
      "tensor([[60695, 12051, 10670,  ..., 19574,  3836,  5535],\n",
      "        [60695, 12051, 10670,  ..., 19574,  3836,  5535],\n",
      "        [60695, 12051, 10670,  ..., 19574,  3836,  5535],\n",
      "        ...,\n",
      "        [60695, 12051, 10670,  ..., 19574,  3836,  5535],\n",
      "        [60695, 12051, 10670,  ..., 19574,  3836,  5535],\n",
      "        [60695, 12051, 10670,  ..., 19574,  3836,  5535]], device='cuda:0')\n"
     ]
    },
    {
     "name": "stderr",
     "output_type": "stream",
     "text": [
      "Extracting gene embeddings:  94%|█████████▍| 15/16 [00:16<00:01,  1.10s/it]"
     ]
    },
    {
     "name": "stdout",
     "output_type": "stream",
     "text": [
      "tensor([[60695, 12051, 10670,  ..., 19574,  3836,  5535],\n",
      "        [60695, 12051, 10670,  ..., 19574,  3836,  5535],\n",
      "        [60695, 12051, 10670,  ..., 19574,  3836,  5535],\n",
      "        ...,\n",
      "        [60695, 12051, 10670,  ..., 19574,  3836,  5535],\n",
      "        [60695, 12051, 10670,  ..., 19574,  3836,  5535],\n",
      "        [60695, 12051, 10670,  ..., 19574,  3836,  5535]], device='cuda:0')\n"
     ]
    },
    {
     "name": "stderr",
     "output_type": "stream",
     "text": [
      "Extracting gene embeddings: 100%|██████████| 16/16 [00:17<00:00,  1.09s/it]\n"
     ]
    },
    {
     "name": "stdout",
     "output_type": "stream",
     "text": [
      "基因嵌入矩阵形状: (3952, 1069, 512)\n",
      "\n",
      "结果已保存至 /home/lxz/scmamba/gene_pretubation/embeddings:\n",
      "- 基因嵌入矩阵形状: (3952, 1069, 512) (cells × genes × features)\n",
      "- 细胞类型数量: 3952\n",
      "- 每个细胞的基因数量: 1069\n",
      "- 嵌入维度: 512\n"
     ]
    }
   ],
   "source": [
    "import os\n",
    "import pickle\n",
    "import torch\n",
    "import numpy as np\n",
    "import pandas as pd\n",
    "import anndata as ad\n",
    "from torch.utils.data import Dataset, DataLoader\n",
    "from tqdm import tqdm\n",
    "import sys\n",
    "from pathlib import Path\n",
    "\n",
    "# 获取当前 Notebook 所在目录的父目录\n",
    "current_dir = Path.cwd()\n",
    "parent_dir = current_dir.parent\n",
    "sys.path.append(str(parent_dir))\n",
    "from models.gene_tokenizer import GeneVocab\n",
    "from models.model import MambaModel\n",
    "\n",
    "max_seq_len = 1070\n",
    "device = torch.device(\"cuda\" if torch.cuda.is_available() else \"cpu\")\n",
    "\n",
    "class H5ADDataset(Dataset):\n",
    "    \"\"\"读取h5ad文件的数据集，只选择ctrl细胞\"\"\"\n",
    "    def __init__(self, file_path):\n",
    "        self.adata = ad.read_h5ad(file_path)\n",
    "        \n",
    "        # 筛选ctrl细胞\n",
    "        if 'condition' in self.adata.obs.columns:\n",
    "            ctrl_mask = self.adata.obs['condition'] == 'ctrl'\n",
    "            self.adata = self.adata[ctrl_mask]\n",
    "            print(f\"筛选后ctrl细胞数量: {len(self.adata.obs)}\")\n",
    "        else:\n",
    "            print(\"警告: 数据集中没有condition列，使用所有细胞\")\n",
    "        \n",
    "        # 确保数据是稠密矩阵\n",
    "        if hasattr(self.adata.X, 'toarray'):\n",
    "            self.X = self.adata.X.toarray()\n",
    "        else:\n",
    "            self.X = self.adata.X\n",
    "        \n",
    "        # 获取细胞类型信息\n",
    "        if 'condition' in self.adata.obs.columns:\n",
    "            self.cell_types = self.adata.obs['condition'].values\n",
    "        else:\n",
    "            self.cell_types = ['unknown'] * len(self.adata.obs)\n",
    "    \n",
    "    def __len__(self):\n",
    "        return len(self.adata.obs)\n",
    "    \n",
    "    def __getitem__(self, idx):\n",
    "        return {\n",
    "            'X': torch.FloatTensor(self.X[idx]),\n",
    "            'cell_type': self.cell_types[idx]\n",
    "        }\n",
    "\n",
    "def preprocess_batch_fixed_genes(x_batch, feature_names, vocab, device, max_seq_len=2049):\n",
    "    \"\"\"预处理批次数据，使用固定的1049个基因顺序\"\"\"\n",
    "    batch_size = x_batch.size(0)\n",
    "    n_genes = len(feature_names)\n",
    "    \n",
    "    # 初始化张量\n",
    "    values_tensor = torch.full((batch_size, max_seq_len), -2.0, device=device)\n",
    "    src_tensor = torch.full((batch_size, max_seq_len), vocab[\"<pad>\"], dtype=torch.long, device=device)\n",
    "    padding_mask = torch.zeros((batch_size, max_seq_len), dtype=torch.bool, device=device)\n",
    "    \n",
    "    for i in range(batch_size):\n",
    "        # 使用固定的基因顺序：CLS + 所有1049个基因\n",
    "        genes = [\"<cls>\"] + feature_names\n",
    "        \n",
    "        # 截断或填充到max_seq_len\n",
    "        if len(genes) > max_seq_len:\n",
    "            genes = genes[:max_seq_len]\n",
    "        else:\n",
    "            genes = genes + [\"<pad>\"] * (max_seq_len - len(genes))\n",
    "        \n",
    "        # 映射到token ID\n",
    "        src_tensor[i] = torch.tensor([\n",
    "            vocab[gene] if gene in vocab else vocab[\"<unk>\"] for gene in genes\n",
    "        ], device=device)\n",
    "        \n",
    "        # 填充values_tensor：CLS位置为0，基因位置为实际表达值\n",
    "        values_tensor[i, 0] = 0.0  # <cls> 位置\n",
    "        \n",
    "        # 填充基因表达值\n",
    "        n_genes_to_fill = min(n_genes, max_seq_len - 1)\n",
    "        values_tensor[i, 1:1+n_genes_to_fill] = x_batch[i, :n_genes_to_fill]\n",
    "        \n",
    "        # 生成填充掩码\n",
    "        padding_mask[i] = torch.tensor([gene == \"<pad>\" for gene in genes], device=device)\n",
    "        \n",
    "    return values_tensor, src_tensor, padding_mask\n",
    "\n",
    "def get_gene_embeddings(model, file_path, feature_names, vocab):\n",
    "    \"\"\"\n",
    "    从h5ad文件提取所有基因的嵌入\n",
    "    \"\"\"\n",
    "    all_gene_embeddings = []\n",
    "    all_cell_types = []\n",
    "    \n",
    "    dataset = H5ADDataset(file_path)\n",
    "    loader = DataLoader(\n",
    "        dataset,\n",
    "        batch_size=256,\n",
    "        shuffle=False,\n",
    "        num_workers=4,\n",
    "        pin_memory=True\n",
    "    )\n",
    "    \n",
    "    with torch.no_grad():\n",
    "        for batch in tqdm(loader, desc=f\"Extracting gene embeddings\"):\n",
    "            x = batch['X'].to(device, non_blocking=True)\n",
    "            values, src, mask = preprocess_batch_fixed_genes(x, feature_names, vocab, device, max_seq_len)\n",
    "            print(src)\n",
    "            with torch.cuda.amp.autocast(enabled=True):\n",
    "                outputs = model(src=src, values=values, src_key_padding_mask=mask)\n",
    "                \n",
    "                # 当使用 \"all-genes\" 模式时，outputs[\"cell_emb\"] 已经是基因嵌入\n",
    "                # 形状: [batch_size, n_genes, d_model]\n",
    "                gene_embeddings = outputs[\"cell_emb\"].cpu().numpy()\n",
    "            \n",
    "            all_gene_embeddings.append(gene_embeddings)\n",
    "            all_cell_types.append(batch['cell_type'])\n",
    "    \n",
    "    # 合并所有结果\n",
    "    all_gene_embeddings = np.concatenate(all_gene_embeddings, axis=0)\n",
    "    all_cell_types = np.concatenate(all_cell_types, axis=0)\n",
    "    \n",
    "    return all_gene_embeddings, all_cell_types\n",
    "\n",
    "def load_model(model_path, vocab_path):\n",
    "    \"\"\"加载预训练模型和词汇表\"\"\"\n",
    "    vocab = GeneVocab.from_file(vocab_path)\n",
    "    model = MambaModel(\n",
    "        ntoken=len(vocab), d_model=512, nhead=8, d_hid=512, nlayers=6,\n",
    "        dropout=0.2, pad_token=\"<pad>\", pad_value=-2,\n",
    "        input_emb_style=\"continuous\", \n",
    "        cell_emb_style=\"all-genes\"  # 修改为返回所有基因嵌入的模式\n",
    "    )\n",
    "    model.load_state_dict(torch.load(model_path, map_location=device))\n",
    "    model.to(device)\n",
    "    model.eval()\n",
    "    return model, vocab\n",
    "\n",
    "if __name__ == \"__main__\":\n",
    "    # 1. 加载模型和词汇表\n",
    "    model, vocab = load_model(\n",
    "        \"/home/lxz/scmamba/model_state/cell_cls_3loss_6layer_final.pth\",\n",
    "        \"/home/lxz/scmamba/vocab.json\"\n",
    "    )\n",
    "    \n",
    "    # 2. 加载h5ad文件并获取基因名称\n",
    "    h5ad_file_path = \"/home/lxz/scmamba/gene_pretubation/GEARS/data/adamson.h5ad\"\n",
    "    adata = ad.read_h5ad(h5ad_file_path)\n",
    "    \n",
    "    # 从var中获取gene_name作为特征名称\n",
    "    if 'gene_name' in adata.var.columns:\n",
    "        feature_names = adata.var['gene_name'].tolist()\n",
    "    else:\n",
    "        # 如果没有gene_name列，使用var的index\n",
    "        feature_names = adata.var.index.tolist()\n",
    "        print(\"警告: 使用var的index作为基因名称\")\n",
    "    \n",
    "    print(f\"数据集包含 {adata.n_obs} 个细胞和 {len(feature_names)} 个基因\")\n",
    "    print(f\"前10个基因名称: {feature_names[:10]}\")\n",
    "    \n",
    "    # 3. 提取基因嵌入（只处理ctrl细胞）\n",
    "    gene_embeddings, cell_types = get_gene_embeddings(model, h5ad_file_path, feature_names, vocab)\n",
    "    print(f\"基因嵌入矩阵形状: {gene_embeddings.shape}\")\n",
    "    # 4. 保存结果\n",
    "    output_dir = \"/home/lxz/scmamba/gene_pretubation/embeddings\"\n",
    "    os.makedirs(output_dir, exist_ok=True)\n",
    "    \n",
    "    # 保存基因嵌入（每个细胞对应1049个基因的嵌入）\n",
    "    np.save(os.path.join(output_dir, \"adamson_gene_embeddings.npy\"), gene_embeddings)\n",
    "    np.save(os.path.join(output_dir, \"adamson_cell_types.npy\"), cell_types)\n",
    "    \n",
    "    print(f\"\\n结果已保存至 {output_dir}:\")\n",
    "    print(f\"- 基因嵌入矩阵形状: {gene_embeddings.shape} (cells × genes × features)\")\n",
    "    print(f\"- 细胞类型数量: {len(cell_types)}\")\n",
    "    print(f\"- 每个细胞的基因数量: {gene_embeddings.shape[1]}\")\n",
    "    print(f\"- 嵌入维度: {gene_embeddings.shape[2]}\")"
   ]
  },
  {
   "cell_type": "code",
   "execution_count": 13,
   "id": "03e7699e",
   "metadata": {},
   "outputs": [
    {
     "name": "stdout",
     "output_type": "stream",
     "text": [
      "gene2go.pkl 中的基因数量: 67832\n",
      "h5ad文件中的细胞数: 47795, 基因数: 1069\n",
      "h5ad文件中的基因数量: 1069\n",
      "HMGA2 存在于 gene2go.pkl 中\n",
      "HMGA2 存在于 h5ad 文件中\n",
      "两个文件共有的基因数量: 1049\n",
      "gene2go.pkl 中与 h5ad 重合的基因比例: 1.55%\n",
      "h5ad 中与 gene2go.pkl 重合的基因比例: 98.13%\n",
      "\n",
      "重合基因示例（前10个）:\n",
      "PLD3\n",
      "NTRK1\n",
      "AVP\n",
      "OLAH\n",
      "GOLIM4\n",
      "IFITM1\n",
      "PDIA6\n",
      "PLXNC1\n",
      "BIRC3\n",
      "MMP10\n"
     ]
    }
   ],
   "source": [
    "import pickle\n",
    "import scanpy as sc\n",
    "\n",
    "# 读取pkl文件\n",
    "with open('/home/lxz/scmamba/gene_pretubation/GEARS/data/gene2go.pkl', 'rb') as f:\n",
    "    data = pickle.load(f)\n",
    "\n",
    "# 获取gene2go中的基因列表\n",
    "gene_names = list(data.keys())\n",
    "print(f\"gene2go.pkl 中的基因数量: {len(gene_names)}\")\n",
    "\n",
    "# 读取h5ad文件\n",
    "adata = sc.read(\"/home/lxz/scmamba/gene_pretubation/GEARS/data/adamson.h5ad\")\n",
    "print(f\"h5ad文件中的细胞数: {adata.n_obs}, 基因数: {adata.n_vars}\")\n",
    "\n",
    "# 获取h5ad文件中的基因名称\n",
    "h5ad_genes = adata.var.gene_name.tolist()\n",
    "print(f\"h5ad文件中的基因数量: {len(h5ad_genes)}\")\n",
    "\n",
    "# 检查HMGA2是否在两个文件中\n",
    "if \"HMGA2\" in gene_names:\n",
    "    print(\"HMGA2 存在于 gene2go.pkl 中\")\n",
    "if \"HMGA2\" in h5ad_genes:\n",
    "    print(\"HMGA2 存在于 h5ad 文件中\")\n",
    "\n",
    "# 找出两个文件的基因交集\n",
    "common_genes = set(gene_names) & set(h5ad_genes)\n",
    "print(f\"两个文件共有的基因数量: {len(common_genes)}\")\n",
    "\n",
    "# 计算重合比例\n",
    "overlap_ratio_gene2go = len(common_genes) / len(gene_names) * 100\n",
    "overlap_ratio_h5ad = len(common_genes) / len(h5ad_genes) * 100\n",
    "\n",
    "print(f\"gene2go.pkl 中与 h5ad 重合的基因比例: {overlap_ratio_gene2go:.2f}%\")\n",
    "print(f\"h5ad 中与 gene2go.pkl 重合的基因比例: {overlap_ratio_h5ad:.2f}%\")\n",
    "\n",
    "# 如果需要查看具体的重合基因列表（前10个作为示例）\n",
    "print(\"\\n重合基因示例（前10个）:\")\n",
    "for gene in list(common_genes)[:10]:\n",
    "    print(gene)\n",
    "# print(f\"字典键的数量: {len(data)}\")\n",
    "# print(\"前几个键值对:\")\n",
    "# for i, (key, value) in enumerate(data.items()):\n",
    "#     if i < 5:  # 只显示前5个\n",
    "#         print(f\"{key}: {value}\")\n",
    "#     else:\n",
    "#         break"
   ]
  },
  {
   "cell_type": "code",
   "execution_count": 7,
   "id": "7d5e892d",
   "metadata": {},
   "outputs": [
    {
     "name": "stdout",
     "output_type": "stream",
     "text": [
      "[\"'C-K-RAS\" '(FM-3)' '(ppGpp)ase' '0610011B16Rik' '0610037N12Rik'\n",
      " '0710008D09Rik' '1' '1-8D' '1-8U' '1-AGPAT 3' '1-AGPAT 6' '1-AGPAT1'\n",
      " '1-AGPAT2' '1-AGPAT4' '1-Cys' '10-FTHFDH' '10-fTHF' '101F10.1' '101F6'\n",
      " '104p']\n",
      "67832\n"
     ]
    }
   ],
   "source": [
    "with open('/home/lxz/scmamba/gene_pretubation/GEARS/data/gene2go.pkl', 'rb') as f:\n",
    "    gene2go = pickle.load(f)\n",
    "\n",
    "pert_names = np.unique(list(gene2go.keys()))\n",
    "print(pert_names[:20])\n",
    "print(len(pert_names))"
   ]
  },
  {
   "cell_type": "code",
   "execution_count": 27,
   "id": "0254eefe",
   "metadata": {},
   "outputs": [
    {
     "name": "stderr",
     "output_type": "stream",
     "text": [
      "/tmp/ipykernel_1384286/271927386.py:53: MatplotlibDeprecationWarning: The 'labels' parameter of boxplot() has been renamed 'tick_labels' since Matplotlib 3.9; support for the old name will be dropped in 3.11.\n",
      "  box = plt.boxplot(\n"
     ]
    },
    {
     "name": "stdout",
     "output_type": "stream",
     "text": [
      "[Saved] /home/lxz/scmamba/gene_pretubation/GEARS/results/eval_outputs/AHR+ctrl_top20_enhanced_plot.svg\n"
     ]
    }
   ],
   "source": [
    "import os\n",
    "import numpy as np\n",
    "import matplotlib.pyplot as plt\n",
    "\n",
    "# ======= 路径与参数 =======\n",
    "H5AD = \"/home/lxz/scmamba/gene_pretubation/GEARS/data/norman.h5ad\"  # 仅用于取基因名，可不读\n",
    "NPZ  = \"/home/lxz/scmamba/gene_pretubation/GEARS/results/eval_outputs/mamba_norman_eval_results.npz\"\n",
    "DATA = \"norman\"                         # \"norman\" 或 \"adamson\"\n",
    "TOPK = 20\n",
    "OUT  = \"/home/lxz/scmamba/gene_pretubation/GEARS/results/eval_outputs/\"\n",
    "os.makedirs(OUT, exist_ok=True)\n",
    "\n",
    "# ========== 如果你本机有 scanpy，解开下两行即可从 h5ad 取基因名 ==========\n",
    "import scanpy as sc\n",
    "genes = sc.read_h5ad(H5AD).var_names.to_numpy()\n",
    "\n",
    "# ======= 读取评估结果 =======\n",
    "npz = np.load(NPZ, allow_pickle=True)\n",
    "pred, truth, ctrl, pert_cat = npz[\"pred\"], npz[\"truth\"], npz[\"ctrl\"], npz[\"pert_cat\"]\n",
    "\n",
    "# 这里尝试从 npz 取基因名；若没有，则回退为索引字符串（Gene_0,...）\n",
    "genes = npz.get(\"genes\", None)\n",
    "if genes is None:\n",
    "    try:\n",
    "        import scanpy as sc\n",
    "        genes = sc.read_h5ad(H5AD).var_names.to_numpy()\n",
    "    except Exception:\n",
    "        genes = np.array([f\"Gene_{i}\" for i in range(pred.shape[1])])\n",
    "\n",
    "# ======= 选择一个扰动（示例：EIF2B2+ctrl）=======\n",
    "target = \"AHR+ctrl\" if DATA.lower() == \"norman\" else \"EIF2B2+ctrl\"\n",
    "mask = (pert_cat == target)\n",
    "if mask.sum() == 0:\n",
    "    raise ValueError(f\"在结果里找不到扰动：{target}\")\n",
    "\n",
    "# ======= 计算 Δ 分布 =======\n",
    "# 每个细胞的 Δ = 表达(perturbed) - 控制均值；truth/pred 都得到 (n_cells, n_genes)\n",
    "delta_t_cells = truth[mask] - ctrl\n",
    "delta_p_cells = pred[mask]  - ctrl\n",
    "\n",
    "# 用真实 Δ 的\"细胞均值\"的绝对值排序，取 Top-K 基因\n",
    "truth_mean_all = delta_t_cells.mean(axis=0)        # (n_genes,)\n",
    "order = np.argsort(np.abs(truth_mean_all))[::-1][:TOPK]\n",
    "genes_sel   = genes[order]\n",
    "pred_mean   = delta_p_cells.mean(axis=0)[order]    # 预测均值（用于三角标记）\n",
    "truth_mean  = truth_mean_all[order]                # 真实均值（用于方块标记）\n",
    "# ======= 画图 =======\n",
    "fig_h = max(6, TOPK * 0.42)  # 自适应高度\n",
    "plt.figure(figsize=(8.5, fig_h))\n",
    "\n",
    "# 箱线图数据（list of 1D arrays），每个基因为一行（Truth 的细胞分布）\n",
    "data_for_box = [delta_t_cells[:, i] for i in order]\n",
    "box = plt.boxplot(\n",
    "    data_for_box,\n",
    "    vert=False,\n",
    "    labels=genes_sel,\n",
    "    whis=1.5,\n",
    "    showfliers=False,\n",
    "    patch_artist=True,\n",
    "    widths=0.6  # 加宽箱体\n",
    ")\n",
    "\n",
    "# ——箱线图颜色设置（修改中位线颜色和粗细）——\n",
    "box_color = '#87CEEB'  # 天蓝色箱体\n",
    "whisker_color = '#4682B4'  # 钢蓝色须线\n",
    "median_color = '#2E8B57'  # 海绿色中位线\n",
    "\n",
    "for patch in box['boxes']:\n",
    "    patch.set_facecolor(box_color)  # 箱体填充色\n",
    "    patch.set_edgecolor(whisker_color)  # 箱体边框色\n",
    "    patch.set_alpha(0.7)  # 透明度\n",
    "    patch.set_linewidth(1.5)\n",
    "for whisker in box['whiskers']:\n",
    "    whisker.set_color(whisker_color)\n",
    "    whisker.set_linewidth(1.5)\n",
    "for cap in box['caps']:\n",
    "    cap.set_color(whisker_color)\n",
    "    cap.set_linewidth(1.5)\n",
    "for median in box['medians']:\n",
    "    median.set_color(median_color)\n",
    "    median.set_linewidth(3)  # 加粗中位线\n",
    "\n",
    "# y 轴位置（箱线图内部是 1..K）\n",
    "ypos = np.arange(1, len(order) + 1)\n",
    "\n",
    "# ——只保留Pred Mean的标记点——\n",
    "pred_marker = plt.plot(pred_mean, ypos, '^', markersize=10, \n",
    "                       label=\"Pred Mean\", color='#FF8C00',  # 深橙色\n",
    "                       markerfacecolor='#FFA07A',  # 淡橘色填充\n",
    "                       markeredgecolor='#FF8C00',  # 深橙色边框\n",
    "                       linestyle='None',\n",
    "                       markeredgewidth=1.2)\n",
    "\n",
    "# x=0 竖直虚线\n",
    "plt.axvline(0.0, linestyle='--', linewidth=1.5, color=\"gray\", alpha=0.7)\n",
    "\n",
    "# 坐标轴和标题设置\n",
    "plt.xlabel(\"Change in Gene Expression over Control\", fontsize=12, labelpad=10)\n",
    "plt.ylabel(\"Genes\", fontsize=12, labelpad=10)\n",
    "# plt.title(f\"{target}\", \n",
    "#           fontsize=14, pad=20, loc='center')  # 确保标题居中\n",
    "\n",
    "# 调整坐标轴刻度\n",
    "plt.tick_params(axis='both', which='major', labelsize=10)\n",
    "\n",
    "# 创建自定义图例（长方形表示Truth）\n",
    "from matplotlib.patches import Rectangle\n",
    "\n",
    "# 创建自定义图例句柄\n",
    "truth_legend = Rectangle((0,0), 1, 0.5, facecolor='#87CEEB', edgecolor='#4682B4',\n",
    "                        linewidth=1.2, label='Truth')\n",
    "pred_legend = plt.Line2D([], [], marker='^', markersize=10, \n",
    "                        color='#FF8C00', markerfacecolor='#FFA07A',\n",
    "                        linestyle='None', label='Pred Mean')\n",
    "\n",
    "# 添加图例（右上方）\n",
    "plt.legend(handles=[truth_legend, pred_legend],\n",
    "           loc='upper right', framealpha=1, edgecolor='black', fontsize=10)\n",
    "\n",
    "# 设置固定横轴范围[-2,4]\n",
    "plt.xlim(-2, 4)\n",
    "\n",
    "# 设置网格线\n",
    "plt.grid(axis='x', linestyle=':', alpha=0.5)\n",
    "\n",
    "# 调整布局和保存\n",
    "plt.tight_layout()\n",
    "save_path = os.path.join(OUT, f\"{target}_top{TOPK}_enhanced_plot.svg\")\n",
    "plt.savefig(save_path, dpi=300, bbox_inches=\"tight\")\n",
    "plt.close()  # 关闭图形以释放内存\n",
    "print(\"[Saved]\", save_path)"
   ]
  },
  {
   "cell_type": "code",
   "execution_count": 30,
   "id": "2f8d00d9",
   "metadata": {},
   "outputs": [
    {
     "name": "stderr",
     "output_type": "stream",
     "text": [
      "/tmp/ipykernel_1384286/3026326292.py:53: MatplotlibDeprecationWarning: The 'labels' parameter of boxplot() has been renamed 'tick_labels' since Matplotlib 3.9; support for the old name will be dropped in 3.11.\n",
      "  box = plt.boxplot(\n"
     ]
    },
    {
     "name": "stdout",
     "output_type": "stream",
     "text": [
      "[Saved] /home/lxz/scmamba/gene_pretubation/GEARS/results/eval_outputs/BPGM+ZBTB1_top20_enhanced_plot.svg\n"
     ]
    }
   ],
   "source": [
    "import os\n",
    "import numpy as np\n",
    "import matplotlib.pyplot as plt\n",
    "\n",
    "# ======= 路径与参数 =======\n",
    "H5AD = \"/home/lxz/scmamba/gene_pretubation/GEARS/data/norman.h5ad\"  # 仅用于取基因名，可不读\n",
    "NPZ  = \"/home/lxz/scmamba/gene_pretubation/GEARS/results/eval_outputs/mamba_norman_eval_results.npz\"\n",
    "DATA = \"norman\"                         # \"norman\" 或 \"adamson\"\n",
    "TOPK = 20\n",
    "OUT  = \"/home/lxz/scmamba/gene_pretubation/GEARS/results/eval_outputs/\"\n",
    "os.makedirs(OUT, exist_ok=True)\n",
    "\n",
    "# ========== 如果你本机有 scanpy，解开下两行即可从 h5ad 取基因名 ==========\n",
    "import scanpy as sc\n",
    "genes = sc.read_h5ad(H5AD).var_names.to_numpy()\n",
    "\n",
    "# ======= 读取评估结果 =======\n",
    "npz = np.load(NPZ, allow_pickle=True)\n",
    "pred, truth, ctrl, pert_cat = npz[\"pred\"], npz[\"truth\"], npz[\"ctrl\"], npz[\"pert_cat\"]\n",
    "\n",
    "# 这里尝试从 npz 取基因名；若没有，则回退为索引字符串（Gene_0,...）\n",
    "genes = npz.get(\"genes\", None)\n",
    "if genes is None:\n",
    "    try:\n",
    "        import scanpy as sc\n",
    "        genes = sc.read_h5ad(H5AD).var_names.to_numpy()\n",
    "    except Exception:\n",
    "        genes = np.array([f\"Gene_{i}\" for i in range(pred.shape[1])])\n",
    "\n",
    "# ======= 选择一个扰动（示例：EIF2B2+ctrl）=======\n",
    "target = \"BPGM+ZBTB1\" if DATA.lower() == \"norman\" else \"EIF2B2+ctrl\"\n",
    "mask = (pert_cat == target)\n",
    "if mask.sum() == 0:\n",
    "    raise ValueError(f\"在结果里找不到扰动：{target}\")\n",
    "\n",
    "# ======= 计算 Δ 分布 =======\n",
    "# 每个细胞的 Δ = 表达(perturbed) - 控制均值；truth/pred 都得到 (n_cells, n_genes)\n",
    "delta_t_cells = truth[mask] - ctrl\n",
    "delta_p_cells = pred[mask]  - ctrl\n",
    "\n",
    "# 用真实 Δ 的\"细胞均值\"的绝对值排序，取 Top-K 基因\n",
    "truth_mean_all = delta_t_cells.mean(axis=0)        # (n_genes,)\n",
    "order = np.argsort(np.abs(truth_mean_all))[::-1][:TOPK]\n",
    "genes_sel   = genes[order]\n",
    "pred_mean   = delta_p_cells.mean(axis=0)[order]    # 预测均值（用于三角标记）\n",
    "truth_mean  = truth_mean_all[order]                # 真实均值（用于方块标记）\n",
    "# ======= 画图 =======\n",
    "fig_h = max(6, TOPK * 0.42)  # 自适应高度\n",
    "plt.figure(figsize=(8.5, fig_h))\n",
    "\n",
    "# 箱线图数据（list of 1D arrays），每个基因为一行（Truth 的细胞分布）\n",
    "data_for_box = [delta_t_cells[:, i] for i in order]\n",
    "box = plt.boxplot(\n",
    "    data_for_box,\n",
    "    vert=False,\n",
    "    labels=genes_sel,\n",
    "    whis=1.5,\n",
    "    showfliers=False,\n",
    "    patch_artist=True,\n",
    "    widths=0.6  # 加宽箱体\n",
    ")\n",
    "\n",
    "# ——箱线图颜色设置（修改中位线颜色和粗细）——\n",
    "box_color = '#B0E0E6'  # 淡蓝色箱体\n",
    "whisker_color = '#4169E1'  # 藏青色须线\n",
    "median_color = '#228B22'  # 森林绿中位线\n",
    "\n",
    "for patch in box['boxes']:\n",
    "    patch.set_facecolor(box_color)  # 箱体填充色\n",
    "    patch.set_edgecolor(whisker_color)  # 箱体边框色\n",
    "    patch.set_alpha(0.7)  # 透明度\n",
    "    patch.set_linewidth(1.5)\n",
    "for whisker in box['whiskers']:\n",
    "    whisker.set_color(whisker_color)\n",
    "    whisker.set_linewidth(1.5)\n",
    "for cap in box['caps']:\n",
    "    cap.set_color(whisker_color)\n",
    "    cap.set_linewidth(1.5)\n",
    "for median in box['medians']:\n",
    "    median.set_color(median_color)\n",
    "    median.set_linewidth(3)  # 加粗中位线\n",
    "\n",
    "# y 轴位置（箱线图内部是 1..K）\n",
    "ypos = np.arange(1, len(order) + 1)\n",
    "\n",
    "# ——只保留Pred Mean的标记点——\n",
    "pred_marker = plt.plot(pred_mean, ypos, '^', markersize=10, \n",
    "                       label=\"Pred Mean\", color='#FF4500',  # 橙红色\n",
    "                       markerfacecolor='#FF7F50',  # 珊瑚色填充\n",
    "                       markeredgecolor='#FF4500',  # 橙红色边框\n",
    "                       linestyle='None',\n",
    "                       markeredgewidth=1.2)\n",
    "\n",
    "# x=0 竖直虚线\n",
    "plt.axvline(0.0, linestyle='--', linewidth=1.5, color=\"gray\", alpha=0.7)\n",
    "\n",
    "# 坐标轴和标题设置\n",
    "plt.xlabel(\"Change in Gene Expression over Control\", fontsize=12, labelpad=10)\n",
    "plt.ylabel(\"Genes\", fontsize=12, labelpad=10)\n",
    "\n",
    "# 调整坐标轴刻度\n",
    "plt.tick_params(axis='both', which='major', labelsize=10)\n",
    "\n",
    "# 创建自定义图例（长方形表示Truth）\n",
    "from matplotlib.patches import Rectangle\n",
    "\n",
    "# 创建自定义图例句柄\n",
    "truth_legend = Rectangle((0,0), 1, 0.5, facecolor='#B0E0E6', edgecolor='#4169E1',\n",
    "                        linewidth=1.2, label='Truth')\n",
    "pred_legend = plt.Line2D([], [], marker='^', markersize=10, \n",
    "                        color='#FF4500', markerfacecolor='#FF7F50',\n",
    "                        linestyle='None', label='Pred Mean')\n",
    "\n",
    "# 添加图例（右上方）\n",
    "plt.legend(handles=[truth_legend, pred_legend],\n",
    "           loc='upper right', framealpha=1, edgecolor='black', fontsize=10)\n",
    "\n",
    "# 设置固定横轴范围[-2,4]\n",
    "plt.xlim(-2, 5)\n",
    "\n",
    "# 设置网格线\n",
    "plt.grid(axis='x', linestyle=':', alpha=0.5, color='#DDDDDD')\n",
    "\n",
    "# 调整布局和保存\n",
    "plt.tight_layout()\n",
    "save_path = os.path.join(OUT, f\"{target}_top{TOPK}_enhanced_plot.svg\")\n",
    "plt.savefig(save_path, dpi=300, bbox_inches=\"tight\")\n",
    "plt.close()  # 关闭图形以释放内存\n",
    "print(\"[Saved]\", save_path)"
   ]
  },
  {
   "cell_type": "code",
   "execution_count": null,
   "id": "664eeac0",
   "metadata": {},
   "outputs": [],
   "source": [
    "import numpy as np\n",
    "import matplotlib.pyplot as plt\n",
    "\n",
    "# 数据准备\n",
    "tools = ['KcellFM', 'scfoundation', 'scgpt', 'geneformer']\n",
    "colors = ['#4e79a7', '#59a14f', '#e15759', '#79706e']  # 协调的颜色组合\n",
    "\n",
    "# 原始数据\n",
    "norman_mse = [0.1851, 0.1927, 0.1845, 0.1915]\n",
    "norman_pcc = [0.6840, 0.6709, 0.6850, 0.6555]\n",
    "adamson_mse = [0.1641, 0.1749, 0.1669, 0.1692]\n",
    "adamson_pcc = [0.7886, 0.7858, 0.7842, 0.7882]\n",
    "\n",
    "# 确定统一的Y轴范围\n",
    "mse_min = min(min(norman_mse), min(adamson_mse)) - 0.01\n",
    "mse_max = max(max(norman_mse), max(adamson_mse)) + 0.01\n",
    "\n",
    "pcc_min = min(min(norman_pcc), min(adamson_pcc)) - 0.01\n",
    "pcc_max = max(max(norman_pcc), max(adamson_pcc)) + 0.01\n",
    "\n",
    "# 创建2x2的画布\n",
    "fig, axs = plt.subplots(2, 2, figsize=(14, 10), dpi=100)\n",
    "plt.subplots_adjust(hspace=0.3, wspace=0.3)  # 调整子图间距\n",
    "\n",
    "# --------------------------\n",
    "# 1. Norman MSE\n",
    "# --------------------------\n",
    "axs[0,0].bar(tools, norman_mse, color=colors, edgecolor='black', linewidth=0.5)\n",
    "axs[0,0].set_title('Norman Dataset - MSE (Lower is Better)', fontweight='bold')\n",
    "axs[0,0].set_ylim(mse_min, mse_max)  # 使用统一的MSE范围\n",
    "axs[0,0].grid(axis='y', linestyle='--', alpha=0.6)\n",
    "\n",
    "# --------------------------\n",
    "# 2. Norman PCC\n",
    "# --------------------------\n",
    "axs[0,1].bar(tools, norman_pcc, color=colors, edgecolor='black', linewidth=0.5)\n",
    "axs[0,1].set_title('Norman Dataset - PCC', fontweight='bold')\n",
    "axs[0,1].set_ylim(pcc_min, pcc_max)  # 使用统一的PCC范围\n",
    "axs[0,1].grid(axis='y', linestyle='--', alpha=0.6)\n",
    "\n",
    "# --------------------------\n",
    "# 3. Adamson MSE\n",
    "# --------------------------\n",
    "axs[1,0].bar(tools, adamson_mse, color=colors, edgecolor='black', linewidth=0.5)\n",
    "axs[1,0].set_title('Adamson Dataset - MSE', fontweight='bold')\n",
    "axs[1,0].set_ylim(mse_min, mse_max)  # 使用统一的MSE范围\n",
    "axs[1,0].grid(axis='y', linestyle='--', alpha=0.6)\n",
    "\n",
    "# --------------------------\n",
    "# 4. Adamson PCC\n",
    "# --------------------------\n",
    "axs[1,1].bar(tools, adamson_pcc, color=colors, edgecolor='black', linewidth=0.5)\n",
    "axs[1,1].set_title('Adamson Dataset - PCC (Higher is Better)', fontweight='bold')\n",
    "axs[1,1].set_ylim(pcc_min, pcc_max)  # 使用统一的PCC范围\n",
    "axs[1,1].grid(axis='y', linestyle='--', alpha=0.6)\n",
    "\n",
    "# 保存为SVG\n",
    "plt.savefig('performance_breakdown.svg', format='svg', bbox_inches='tight')\n",
    "plt.show()"
   ]
  }
 ],
 "metadata": {
  "kernelspec": {
   "display_name": "scgpt",
   "language": "python",
   "name": "python3"
  },
  "language_info": {
   "codemirror_mode": {
    "name": "ipython",
    "version": 3
   },
   "file_extension": ".py",
   "mimetype": "text/x-python",
   "name": "python",
   "nbconvert_exporter": "python",
   "pygments_lexer": "ipython3",
   "version": "3.10.16"
  }
 },
 "nbformat": 4,
 "nbformat_minor": 5
}
