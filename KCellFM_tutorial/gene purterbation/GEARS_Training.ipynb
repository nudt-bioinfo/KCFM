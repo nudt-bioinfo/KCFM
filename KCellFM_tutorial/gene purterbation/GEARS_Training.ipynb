{
  "cells": [
    {
      "cell_type": "markdown",
      "metadata": {},
      "source": [
        "## 1. 环境设置和导入\n"
      ]
    },
    {
      "cell_type": "code",
      "execution_count": 1,
      "metadata": {},
      "outputs": [
        {
          "name": "stdout",
          "output_type": "stream",
          "text": [
            "当前工作目录: /home/mjin/GEARS_Clean\n",
            "PyTorch版本: 2.4.1+cu118\n",
            "CUDA可用: True\n",
            "CUDA设备数量: 7\n",
            "当前CUDA设备: 0\n"
          ]
        }
      ],
      "source": [
        "# 设置工作目录\n",
        "import os\n",
        "import sys\n",
        "import torch\n",
        "import pandas as pd\n",
        "import scanpy as sc\n",
        "from os.path import join as pjoin\n",
        "\n",
        "# 添加项目路径到Python路径\n",
        "project_root = \"/home/mjin/GEARS_Clean\"\n",
        "sys.path.append(project_root)\n",
        "os.chdir(project_root)\n",
        "\n",
        "print(f\"当前工作目录: {os.getcwd()}\")\n",
        "print(f\"PyTorch版本: {torch.__version__}\")\n",
        "print(f\"CUDA可用: {torch.cuda.is_available()}\")\n",
        "if torch.cuda.is_available():\n",
        "    print(f\"CUDA设备数量: {torch.cuda.device_count()}\")\n",
        "    print(f\"当前CUDA设备: {torch.cuda.current_device()}\")\n"
      ]
    },
    {
      "cell_type": "code",
      "execution_count": 2,
      "metadata": {},
      "outputs": [
        {
          "name": "stderr",
          "output_type": "stream",
          "text": [
            "/home/mjin/anaconda3/envs/hast/lib/python3.8/site-packages/tqdm/auto.py:21: TqdmWarning: IProgress not found. Please update jupyter and ipywidgets. See https://ipywidgets.readthedocs.io/en/stable/user_install.html\n",
            "  from .autonotebook import tqdm as notebook_tqdm\n"
          ]
        },
        {
          "name": "stdout",
          "output_type": "stream",
          "text": [
            "loading embedding from scfoundation for dataset adamson\n",
            "embedding path: /home/mjin/GEARS_Clean/embed/scfoundation_adamson_embedding.npy\n",
            "embedding shape: torch.Size([3952, 1069, 512])\n",
            "GEARS模块导入成功\n"
          ]
        }
      ],
      "source": [
        "# 导入GEARS相关模块\n",
        "from gears.pertdata import PertData\n",
        "from gears.gears import GEARS\n",
        "\n",
        "print(\"GEARS模块导入成功\")\n"
      ]
    },
    {
      "cell_type": "markdown",
      "metadata": {},
      "source": [
        "## 2. 配置参数\n"
      ]
    },
    {
      "cell_type": "code",
      "execution_count": 3,
      "metadata": {},
      "outputs": [
        {
          "name": "stdout",
          "output_type": "stream",
          "text": [
            "配置参数:\n",
            "  accumulation_steps: 5\n",
            "  batch_size: 32\n",
            "  custom_embedding_path: None\n",
            "  data_dir: /home/mjin/GEARS_Clean/data\n",
            "  data_name: adamson\n",
            "  device: cuda\n",
            "  epochs: 15\n",
            "  finetune_method: random\n",
            "  hidden_size: 64\n",
            "  highres: 0\n",
            "  lr: 0.001\n",
            "  mode: v1\n",
            "  model_type: emb\n",
            "  pretrained_model_name: scfoundation\n",
            "  result_dir: /home/mjin/GEARS_Clean/result/training_result\n",
            "  seed: 3\n",
            "  singlecell_model_path: None\n",
            "  split: simulation\n",
            "  test_batch_size: 32\n",
            "  train_gene_set_size: 0.75\n",
            "  weight_decay: 0.0005\n"
          ]
        }
      ],
      "source": [
        "# 训练配置参数\n",
        "class Config:\n",
        "    # 数据相关参数\n",
        "    data_dir = \"/home/mjin/GEARS_Clean/data\"\n",
        "    data_name = \"adamson\"\n",
        "    split = \"simulation\"\n",
        "    seed = 3\n",
        "    train_gene_set_size = 0.75\n",
        "    \n",
        "    # 训练参数\n",
        "    batch_size = 32\n",
        "    test_batch_size = 32\n",
        "    epochs = 15\n",
        "    lr = 1e-3\n",
        "    weight_decay = 5e-4\n",
        "    \n",
        "    # 模型参数\n",
        "    device = \"cuda\" if torch.cuda.is_available() else \"cpu\"\n",
        "    hidden_size = 64\n",
        "    accumulation_steps = 5\n",
        "    highres = 0\n",
        "    \n",
        "    # 模型类型和路径\n",
        "    model_type = \"emb\"\n",
        "    singlecell_model_path = None\n",
        "    finetune_method = \"random\"\n",
        "    mode = \"v1\"\n",
        "    \n",
        "    # 嵌入相关参数\n",
        "    pretrained_model_name = \"scfoundation\"\n",
        "    custom_embedding_path = None\n",
        "    \n",
        "    # 结果保存路径\n",
        "    result_dir = \"/home/mjin/GEARS_Clean/result/training_result\"\n",
        "\n",
        "# 创建配置实例\n",
        "config = Config()\n",
        "\n",
        "print(\"配置参数:\")\n",
        "for attr in dir(config):\n",
        "    if not attr.startswith('_'):\n",
        "        print(f\"  {attr}: {getattr(config, attr)}\")\n"
      ]
    },
    {
      "cell_type": "markdown",
      "metadata": {},
      "source": [
        "## 3. 数据加载和预处理\n"
      ]
    },
    {
      "cell_type": "code",
      "execution_count": 4,
      "metadata": {},
      "outputs": [
        {
          "name": "stdout",
          "output_type": "stream",
          "text": [
            "检查必要文件:\n",
            "gene2go.pkl: 存在\n",
            "go.csv: 存在\n",
            "embedding文件: 存在\n",
            "\n",
            "测试GO文件加载:\n",
            "Looking for GO file at: /home/mjin/GEARS_Clean/data/go.csv\n"
          ]
        },
        {
          "name": "stdout",
          "output_type": "stream",
          "text": [
            "GO文件加载成功，形状: (1178995, 3)\n"
          ]
        }
      ],
      "source": [
        "# 检查必要文件\n",
        "gene2go_pkl = os.path.join(config.data_dir, \"gene2go.pkl\")\n",
        "go_csv = os.path.join(config.data_dir, \"go.csv\")\n",
        "embedding_file = \"/home/mjin/GEARS_Clean/embed/scfoundation_adamson_embedding.npy\"\n",
        "\n",
        "print(\"检查必要文件:\")\n",
        "print(f\"gene2go.pkl: {'存在' if os.path.exists(gene2go_pkl) else '不存在'}\")\n",
        "print(f\"go.csv: {'存在' if os.path.exists(go_csv) else '不存在'}\")\n",
        "print(f\"embedding文件: {'存在' if os.path.exists(embedding_file) else '不存在'}\")\n",
        "\n",
        "# 测试GO文件加载\n",
        "print(\"\\n测试GO文件加载:\")\n",
        "from gears.utils import get_go_auto\n",
        "test_genes = ['GENE1', 'GENE2', 'GENE3']  # 测试用基因列表\n",
        "go_df = get_go_auto(test_genes, config.data_dir, config.data_name)\n",
        "print(f\"GO文件加载成功，形状: {go_df.shape}\")\n"
      ]
    },
    {
      "cell_type": "code",
      "execution_count": null,
      "metadata": {},
      "outputs": [
        {
          "name": "stdout",
          "output_type": "stream",
          "text": [
            "初始化PertData...\n",
            "read /home/mjin/GEARS_Clean/data/gene2go.pkl\n",
            "✓ PertData初始化完成\n"
          ]
        }
      ],
      "source": [
        "# 初始化PertData\n",
        "print(\"初始化PertData...\")\n",
        "pert_data = PertData(data_path=config.data_dir, gi_go=False)\n",
        "print(\"PertData初始化完成\")\n"
      ]
    },
    {
      "cell_type": "code",
      "execution_count": null,
      "metadata": {},
      "outputs": [
        {
          "name": "stdout",
          "output_type": "stream",
          "text": [
            "加载数据集: adamson\n",
            "读取h5ad文件: (47795, 1069)\n"
          ]
        },
        {
          "name": "stderr",
          "output_type": "stream",
          "text": [
            "Creating pyg object for each cell in the data...\n",
            " 38%|███▊      | 30/79 [01:16<02:40,  3.27s/it]"
          ]
        }
      ],
      "source": [
        "# 加载数据集\n",
        "print(f\"加载数据集: {config.data_name}\")\n",
        "\n",
        "# 直接使用现有的h5ad文件\n",
        "adata = sc.read_h5ad(os.path.join(config.data_dir, f\"{config.data_name}.h5ad\"))\n",
        "print(f\"读取h5ad文件: {adata.shape}\")\n",
        "\n",
        "# 使用new_data_process方法\n",
        "pert_data.new_data_process(dataset_name=config.data_name, adata=adata, skip_calc_de=True)\n",
        "print(\"数据处理成功\")\n",
        "\n",
        "print(f\"数据集形状: {pert_data.adata.shape}\")\n",
        "print(f\"基因数量: {pert_data.adata.n_vars}\")\n",
        "print(f\"细胞数量: {pert_data.adata.n_obs}\")\n"
      ]
    },
    {
      "cell_type": "code",
      "execution_count": null,
      "metadata": {},
      "outputs": [
        {
          "name": "stderr",
          "output_type": "stream",
          "text": [
            "Local copy of split is detected. Loading...\n",
            "Simulation split test composition:\n",
            "combo_seen0:0\n",
            "combo_seen1:0\n",
            "combo_seen2:0\n",
            "unseen_single:20\n",
            "Done!\n",
            "Creating dataloaders....\n",
            "Done!\n"
          ]
        },
        {
          "name": "stdout",
          "output_type": "stream",
          "text": [
            "准备数据划分...\n",
            "数据划分完成\n",
            "创建数据加载器...\n",
            "数据加载器创建完成\n",
            "\n",
            "数据划分统计:\n",
            "  test: 20 个扰动条件\n",
            "  train: 53 个扰动条件\n",
            "  val: 6 个扰动条件\n"
          ]
        }
      ],
      "source": [
        "# 数据划分\n",
        "print(\"准备数据划分...\")\n",
        "pert_data.prepare_split(\n",
        "    split=config.split,\n",
        "    seed=config.seed,\n",
        "    train_gene_set_size=config.train_gene_set_size\n",
        ")\n",
        "print(\"数据划分完成\")\n",
        "\n",
        "# 创建数据加载器\n",
        "print(\"创建数据加载器...\")\n",
        "pert_data.get_dataloader(\n",
        "    batch_size=config.batch_size,\n",
        "    test_batch_size=config.test_batch_size\n",
        ")\n",
        "print(\"数据加载器创建完成\")\n",
        "\n",
        "# 显示数据划分信息\n",
        "if hasattr(pert_data, 'set2conditions'):\n",
        "    print(\"\\n数据划分统计:\")\n",
        "    for split_name, conditions in pert_data.set2conditions.items():\n",
        "        print(f\"  {split_name}: {len(conditions)} 个扰动条件\")\n"
      ]
    },
    {
      "cell_type": "markdown",
      "metadata": {},
      "source": [
        "## 4. 模型初始化和训练\n"
      ]
    },
    {
      "cell_type": "code",
      "execution_count": null,
      "metadata": {},
      "outputs": [
        {
          "name": "stdout",
          "output_type": "stream",
          "text": [
            "初始化GEARS模型...\n",
            "GEARS模型初始化完成，使用设备: cuda\n"
          ]
        }
      ],
      "source": [
        "# 初始化GEARS模型\n",
        "print(\"初始化GEARS模型...\")\n",
        "gears_model = GEARS(pert_data, device=config.device)\n",
        "print(f\"GEARS模型初始化完成，使用设备: {config.device}\")\n"
      ]
    },
    {
      "cell_type": "code",
      "execution_count": null,
      "metadata": {},
      "outputs": [
        {
          "name": "stdout",
          "output_type": "stream",
          "text": [
            "配置模型参数...\n",
            "Use accumulation steps: 5\n",
            "Use mode: v1\n",
            "Use higres: 0\n",
            "loading embedding from scfoundation for dataset adamson\n",
            "embedding path: /home/mjin/GEARS_Clean/embed/scfoundation_adamson_embedding.npy\n"
          ]
        },
        {
          "name": "stdout",
          "output_type": "stream",
          "text": [
            "embedding shape: torch.Size([3952, 1069, 512])\n",
            "No G_go\n",
            "Looking for GO file at: /home/mjin/GEARS_Clean/data/go.csv\n"
          ]
        },
        {
          "ename": "ModuleNotFoundError",
          "evalue": "No module named 'load'",
          "output_type": "error",
          "traceback": [
            "\u001b[0;31m---------------------------------------------------------------------------\u001b[0m",
            "\u001b[0;31mModuleNotFoundError\u001b[0m                       Traceback (most recent call last)",
            "Cell \u001b[0;32mIn[10], line 3\u001b[0m\n\u001b[1;32m      1\u001b[0m \u001b[38;5;66;03m# 模型配置\u001b[39;00m\n\u001b[1;32m      2\u001b[0m \u001b[38;5;28mprint\u001b[39m(\u001b[38;5;124m\"\u001b[39m\u001b[38;5;124m配置模型参数...\u001b[39m\u001b[38;5;124m\"\u001b[39m)\n\u001b[0;32m----> 3\u001b[0m \u001b[43mgears_model\u001b[49m\u001b[38;5;241;43m.\u001b[39;49m\u001b[43mmodel_initialize\u001b[49m\u001b[43m(\u001b[49m\n\u001b[1;32m      4\u001b[0m \u001b[43m    \u001b[49m\u001b[43mhidden_size\u001b[49m\u001b[38;5;241;43m=\u001b[39;49m\u001b[43mconfig\u001b[49m\u001b[38;5;241;43m.\u001b[39;49m\u001b[43mhidden_size\u001b[49m\u001b[43m,\u001b[49m\n\u001b[1;32m      5\u001b[0m \u001b[43m    \u001b[49m\u001b[43mmodel_type\u001b[49m\u001b[38;5;241;43m=\u001b[39;49m\u001b[43mconfig\u001b[49m\u001b[38;5;241;43m.\u001b[39;49m\u001b[43mmodel_type\u001b[49m\u001b[43m,\u001b[49m\n\u001b[1;32m      6\u001b[0m \u001b[43m    \u001b[49m\u001b[43mload_path\u001b[49m\u001b[38;5;241;43m=\u001b[39;49m\u001b[43mconfig\u001b[49m\u001b[38;5;241;43m.\u001b[39;49m\u001b[43msinglecell_model_path\u001b[49m\u001b[43m,\u001b[49m\n\u001b[1;32m      7\u001b[0m \u001b[43m    \u001b[49m\u001b[43mfinetune_method\u001b[49m\u001b[38;5;241;43m=\u001b[39;49m\u001b[43mconfig\u001b[49m\u001b[38;5;241;43m.\u001b[39;49m\u001b[43mfinetune_method\u001b[49m\u001b[43m,\u001b[49m\n\u001b[1;32m      8\u001b[0m \u001b[43m    \u001b[49m\u001b[43maccumulation_steps\u001b[49m\u001b[38;5;241;43m=\u001b[39;49m\u001b[43mconfig\u001b[49m\u001b[38;5;241;43m.\u001b[39;49m\u001b[43maccumulation_steps\u001b[49m\u001b[43m,\u001b[49m\n\u001b[1;32m      9\u001b[0m \u001b[43m    \u001b[49m\u001b[43mhighres\u001b[49m\u001b[38;5;241;43m=\u001b[39;49m\u001b[43mconfig\u001b[49m\u001b[38;5;241;43m.\u001b[39;49m\u001b[43mhighres\u001b[49m\u001b[43m,\u001b[49m\n\u001b[1;32m     10\u001b[0m \u001b[43m    \u001b[49m\u001b[43mpretrained_model_name\u001b[49m\u001b[38;5;241;43m=\u001b[39;49m\u001b[43mconfig\u001b[49m\u001b[38;5;241;43m.\u001b[39;49m\u001b[43mpretrained_model_name\u001b[49m\u001b[43m,\u001b[49m\n\u001b[1;32m     11\u001b[0m \u001b[43m    \u001b[49m\u001b[43mdataset_name\u001b[49m\u001b[38;5;241;43m=\u001b[39;49m\u001b[43mconfig\u001b[49m\u001b[38;5;241;43m.\u001b[39;49m\u001b[43mdata_name\u001b[49m\u001b[43m,\u001b[49m\n\u001b[1;32m     12\u001b[0m \u001b[43m    \u001b[49m\u001b[43mcustom_embedding_path\u001b[49m\u001b[38;5;241;43m=\u001b[39;49m\u001b[43mconfig\u001b[49m\u001b[38;5;241;43m.\u001b[39;49m\u001b[43mcustom_embedding_path\u001b[49m\n\u001b[1;32m     13\u001b[0m \u001b[43m)\u001b[49m\n\u001b[1;32m     14\u001b[0m \u001b[38;5;28mprint\u001b[39m(\u001b[38;5;124m\"\u001b[39m\u001b[38;5;124m✓ 模型配置完成\u001b[39m\u001b[38;5;124m\"\u001b[39m)\n\u001b[1;32m     16\u001b[0m \u001b[38;5;66;03m# 显示模型信息\u001b[39;00m\n",
            "File \u001b[0;32m~/GEARS_Clean/gears/gears.py:224\u001b[0m, in \u001b[0;36mGEARS.model_initialize\u001b[0;34m(self, hidden_size, num_go_gnn_layers, num_gene_gnn_layers, decoder_hidden_size, num_similar_genes_go_graph, num_similar_genes_co_express_graph, coexpress_threshold, uncertainty, uncertainty_reg, direction_lambda, G_go, G_go_weight, G_coexpress, G_coexpress_weight, no_perturb, cell_fitness_pred, go_path, model_type, bin_set, load_path, finetune_method, accumulation_steps, mode, highres, pretrained_model_name, dataset_name, custom_embedding_path)\u001b[0m\n\u001b[1;32m    221\u001b[0m     \u001b[38;5;28mself\u001b[39m\u001b[38;5;241m.\u001b[39mconfig[\u001b[38;5;124m'\u001b[39m\u001b[38;5;124mG_go\u001b[39m\u001b[38;5;124m'\u001b[39m] \u001b[38;5;241m=\u001b[39m sim_network\u001b[38;5;241m.\u001b[39medge_index\n\u001b[1;32m    222\u001b[0m     \u001b[38;5;28mself\u001b[39m\u001b[38;5;241m.\u001b[39mconfig[\u001b[38;5;124m'\u001b[39m\u001b[38;5;124mG_go_weight\u001b[39m\u001b[38;5;124m'\u001b[39m] \u001b[38;5;241m=\u001b[39m sim_network\u001b[38;5;241m.\u001b[39medge_weight\n\u001b[0;32m--> 224\u001b[0m \u001b[38;5;28mself\u001b[39m\u001b[38;5;241m.\u001b[39mmodel \u001b[38;5;241m=\u001b[39m \u001b[43mGEARS_Model\u001b[49m\u001b[43m(\u001b[49m\u001b[38;5;28;43mself\u001b[39;49m\u001b[38;5;241;43m.\u001b[39;49m\u001b[43mconfig\u001b[49m\u001b[43m)\u001b[49m\u001b[38;5;241m.\u001b[39mto(\u001b[38;5;28mself\u001b[39m\u001b[38;5;241m.\u001b[39mdevice)\n\u001b[1;32m    225\u001b[0m \u001b[38;5;28mself\u001b[39m\u001b[38;5;241m.\u001b[39mbest_model \u001b[38;5;241m=\u001b[39m deepcopy(\u001b[38;5;28mself\u001b[39m\u001b[38;5;241m.\u001b[39mmodel)\n",
            "File \u001b[0;32m~/GEARS_Clean/gears/model.py:176\u001b[0m, in \u001b[0;36mGEARS_Model.__init__\u001b[0;34m(self, args)\u001b[0m\n\u001b[1;32m    174\u001b[0m     \u001b[38;5;28mself\u001b[39m\u001b[38;5;241m.\u001b[39mpretrained \u001b[38;5;241m=\u001b[39m \u001b[38;5;28;01mTrue\u001b[39;00m\n\u001b[1;32m    175\u001b[0m \u001b[38;5;28;01melif\u001b[39;00m args[\u001b[38;5;124m'\u001b[39m\u001b[38;5;124mmodel_type\u001b[39m\u001b[38;5;124m'\u001b[39m] \u001b[38;5;241m==\u001b[39m \u001b[38;5;124m'\u001b[39m\u001b[38;5;124memb\u001b[39m\u001b[38;5;124m'\u001b[39m:\n\u001b[0;32m--> 176\u001b[0m     \u001b[38;5;28;01mfrom\u001b[39;00m\u001b[38;5;250m \u001b[39m\u001b[38;5;21;01mmodules\u001b[39;00m\u001b[38;5;21;01m.\u001b[39;00m\u001b[38;5;21;01mencoders\u001b[39;00m\u001b[38;5;250m \u001b[39m\u001b[38;5;28;01mimport\u001b[39;00m MAEAutobinencoder\n\u001b[1;32m    177\u001b[0m     \u001b[38;5;28mself\u001b[39m\u001b[38;5;241m.\u001b[39msinglecell_model \u001b[38;5;241m=\u001b[39m \u001b[38;5;28;01mNone\u001b[39;00m  \u001b[38;5;66;03m# 不用任何编码�?\u001b[39;00m\n\u001b[1;32m    178\u001b[0m     \u001b[38;5;28mself\u001b[39m\u001b[38;5;241m.\u001b[39mpretrained \u001b[38;5;241m=\u001b[39m \u001b[38;5;28;01mTrue\u001b[39;00m\n",
            "File \u001b[0;32m~/GEARS_Clean/modules/encoders.py:24\u001b[0m\n\u001b[1;32m     22\u001b[0m \u001b[38;5;28;01mimport\u001b[39;00m\u001b[38;5;250m \u001b[39m\u001b[38;5;21;01msys\u001b[39;00m \n\u001b[1;32m     23\u001b[0m sys\u001b[38;5;241m.\u001b[39mpath\u001b[38;5;241m.\u001b[39mappend(\u001b[38;5;124m\"\u001b[39m\u001b[38;5;124m../model/\u001b[39m\u001b[38;5;124m\"\u001b[39m) \n\u001b[0;32m---> 24\u001b[0m \u001b[38;5;28;01mfrom\u001b[39;00m\u001b[38;5;250m \u001b[39m\u001b[38;5;21;01mload\u001b[39;00m\u001b[38;5;250m \u001b[39m\u001b[38;5;28;01mimport\u001b[39;00m \u001b[38;5;241m*\u001b[39m\n\u001b[1;32m     27\u001b[0m \u001b[38;5;28;01mdef\u001b[39;00m\u001b[38;5;250m \u001b[39m\u001b[38;5;21mnext_16x\u001b[39m(x):\n\u001b[1;32m     28\u001b[0m     \u001b[38;5;28;01mreturn\u001b[39;00m \u001b[38;5;28mint\u001b[39m(math\u001b[38;5;241m.\u001b[39mceil(x \u001b[38;5;241m/\u001b[39m \u001b[38;5;241m16\u001b[39m) \u001b[38;5;241m*\u001b[39m \u001b[38;5;241m16\u001b[39m)\n",
            "\u001b[0;31mModuleNotFoundError\u001b[0m: No module named 'load'"
          ]
        }
      ],
      "source": [
        "# 模型配置\n",
        "print(\"配置模型参数...\")\n",
        "gears_model.model_initialize(\n",
        "    hidden_size=config.hidden_size,\n",
        "    model_type=config.model_type,\n",
        "    load_path=config.singlecell_model_path,\n",
        "    finetune_method=config.finetune_method,\n",
        "    accumulation_steps=config.accumulation_steps,\n",
        "    highres=config.highres,\n",
        "    pretrained_model_name=config.pretrained_model_name,\n",
        "    dataset_name=config.data_name,\n",
        "    custom_embedding_path=config.custom_embedding_path\n",
        ")\n",
        "print(\"✓ 模型配置完成\")\n",
        "\n",
        "# 显示模型信息\n",
        "print(f\"\\n模型配置信息:\")\n",
        "print(f\"  隐藏层大小: {config.hidden_size}\")\n",
        "print(f\"  模型类型: {config.model_type}\")\n",
        "print(f\"  微调方法: {config.finetune_method}\")\n",
        "print(f\"  累积步数: {config.accumulation_steps}\")\n",
        "print(f\"  高分辨率: {config.highres}\")\n",
        "print(f\"  预训练模型: {config.pretrained_model_name}\")\n",
        "print(f\"  数据集: {config.data_name}\")\n"
      ]
    },
    {
      "cell_type": "code",
      "execution_count": null,
      "metadata": {},
      "outputs": [],
      "source": [
        "# 创建结果目录\n",
        "os.makedirs(config.result_dir, exist_ok=True)\n",
        "print(f\"结果目录创建: {config.result_dir}\")\n",
        "\n",
        "# 保存配置参数\n",
        "param_dict = {attr: getattr(config, attr) for attr in dir(config) if not attr.startswith('_')}\n",
        "param_df = pd.DataFrame(param_dict, index=['params']).T\n",
        "param_df.to_csv(os.path.join(config.result_dir, 'params.csv'))\n",
        "print(\"配置参数已保存\")\n"
      ]
    },
    {
      "cell_type": "code",
      "execution_count": null,
      "metadata": {},
      "outputs": [],
      "source": [
        "# 开始训练\n",
        "print(\"开始训练...\")\n",
        "print(f\"训练轮数: {config.epochs}\")\n",
        "print(f\"学习率: {config.lr}\")\n",
        "print(f\"权重衰减: {config.weight_decay}\")\n",
        "print(\"-\" * 50)\n",
        "\n",
        "import time\n",
        "start_time = time.time()\n",
        "\n",
        "gears_model.train(\n",
        "    epochs=config.epochs,\n",
        "    result_dir=config.result_dir,\n",
        "    lr=config.lr,\n",
        "    weight_decay=config.weight_decay\n",
        ")\n",
        "\n",
        "end_time = time.time()\n",
        "training_time = end_time - start_time\n",
        "\n",
        "print(\"-\" * 50)\n",
        "print(f\"训练完成！总用时: {training_time:.2f} 秒\")\n"
      ]
    },
    {
      "cell_type": "markdown",
      "metadata": {},
      "source": [
        "## 5. 模型保存和结果分析\n"
      ]
    },
    {
      "cell_type": "code",
      "execution_count": null,
      "metadata": {},
      "outputs": [],
      "source": [
        "# 保存模型\n",
        "print(\"保存模型...\")\n",
        "gears_model.save_model(config.result_dir)\n",
        "print(\"模型已保存\")\n",
        "\n",
        "# 检查保存的文件\n",
        "saved_files = os.listdir(config.result_dir)\n",
        "print(f\"\\n保存的文件:\")\n",
        "for file in saved_files:\n",
        "    file_path = os.path.join(config.result_dir, file)\n",
        "    if os.path.isfile(file_path):\n",
        "        size = os.path.getsize(file_path)\n",
        "        print(f\"  {file} ({size} bytes)\")\n"
      ]
    }
  ],
  "metadata": {
    "kernelspec": {
      "display_name": "hast",
      "language": "python",
      "name": "python3"
    },
    "language_info": {
      "codemirror_mode": {
        "name": "ipython",
        "version": 3
      },
      "file_extension": ".py",
      "mimetype": "text/x-python",
      "name": "python",
      "nbconvert_exporter": "python",
      "pygments_lexer": "ipython3",
      "version": "3.8.18"
    }
  },
  "nbformat": 4,
  "nbformat_minor": 2
}
